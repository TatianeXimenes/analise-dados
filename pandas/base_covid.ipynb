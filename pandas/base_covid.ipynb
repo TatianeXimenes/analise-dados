{
 "cells": [
  {
   "cell_type": "markdown",
   "metadata": {},
   "source": [
    "# Análise de dados "
   ]
  },
  {
   "cell_type": "raw",
   "metadata": {},
   "source": [
    "O Pandas é uma biblioteca do Python utilizada para análise e manipulação de dados e nos permite trabalhar de forma rápida e eficiente com arquivos do tipo csv,excel,txt,etc.\n",
    "\n",
    "A biblioteca fornece duas maneiras de estruturar os nossos dados: \n",
    "1. O DataFrame que possui uma estrutura tabular de N-dimensões, onde cada coluna é um campo da tabela e cada linha um registro.\n",
    "2. A Series que é uma matriz unidimensional que contém uma sequencia de valores acompanhado de seus respectivos índices."
   ]
  },
  {
   "cell_type": "markdown",
   "metadata": {},
   "source": [
    "### Estrutura do noteebok:"
   ]
  },
  {
   "cell_type": "markdown",
   "metadata": {},
   "source": [
    "[1. Importação da biblioteca Pandas](#1.-Importa%C3%A7%C3%A3o-da-biblioteca-Pandas)<br>\n",
    "[2. Leitura da base](#2.-Leitura-da-base)<br>\n",
    "[3. Definição do índice](#3.-Defini%C3%A7%C3%A3o-do-%C3%ADndice)<br>\n",
    "[4. Consultando os dados](#4.-Consultando-os-dados)<br>\n",
    "[5. Analisando um DataFrame com o Profiling](#5.-Analisando-um-DataFrame-com-o-Profiling:)<br>\n",
    "[6. Data Cleaning com o Pandas](#6.-Data-Cleaning-com-o-Pandas)<br>\n",
    "[7. Fontes](#7.-Fontes)<br>"
   ]
  },
  {
   "cell_type": "markdown",
   "metadata": {},
   "source": [
    "### 1. Importação da biblioteca Pandas"
   ]
  },
  {
   "cell_type": "code",
   "execution_count": 2,
   "metadata": {},
   "outputs": [],
   "source": [
    "import pandas as pd"
   ]
  },
  {
   "cell_type": "markdown",
   "metadata": {},
   "source": [
    "### 2. Leitura da base"
   ]
  },
  {
   "cell_type": "code",
   "execution_count": 4,
   "metadata": {},
   "outputs": [],
   "source": [
    "pd.read_csv('https://github.com/wcota/covid19br/raw/master/cases-brazil-cities-time_changesOnly.csv.gz').reset_index().to_csv('cases-brazil-cities-time.csv', index=False)"
   ]
  },
  {
   "cell_type": "code",
   "execution_count": 3,
   "metadata": {},
   "outputs": [],
   "source": [
    "read_path = 'cases-brazil-cities-time.csv'"
   ]
  },
  {
   "cell_type": "code",
   "execution_count": 4,
   "metadata": {},
   "outputs": [],
   "source": [
    "df = pd.read_csv(read_path)"
   ]
  },
  {
   "cell_type": "code",
   "execution_count": 5,
   "metadata": {},
   "outputs": [
    {
     "data": {
      "text/plain": [
       "Index(['index', 'epi_week', 'date', 'country', 'state', 'city', 'ibgeID',\n",
       "       'newDeaths', 'deaths', 'newCases', 'totalCases',\n",
       "       'deaths_per_100k_inhabitants', 'totalCases_per_100k_inhabitants',\n",
       "       'deaths_by_totalCases', '_source', 'last_info_date'],\n",
       "      dtype='object')"
      ]
     },
     "execution_count": 5,
     "metadata": {},
     "output_type": "execute_result"
    }
   ],
   "source": [
    "#Colunas presentes do dataFrame\n",
    "df.columns"
   ]
  },
  {
   "cell_type": "code",
   "execution_count": 6,
   "metadata": {},
   "outputs": [
    {
     "name": "stdout",
     "output_type": "stream",
     "text": [
      "<class 'pandas.core.frame.DataFrame'>\n",
      "RangeIndex: 1557786 entries, 0 to 1557785\n",
      "Data columns (total 16 columns):\n",
      " #   Column                           Non-Null Count    Dtype  \n",
      "---  ------                           --------------    -----  \n",
      " 0   index                            1557786 non-null  int64  \n",
      " 1   epi_week                         1557786 non-null  int64  \n",
      " 2   date                             1557786 non-null  object \n",
      " 3   country                          1557786 non-null  object \n",
      " 4   state                            1557786 non-null  object \n",
      " 5   city                             1557786 non-null  object \n",
      " 6   ibgeID                           1557786 non-null  int64  \n",
      " 7   newDeaths                        1557786 non-null  int64  \n",
      " 8   deaths                           1557786 non-null  int64  \n",
      " 9   newCases                         1557786 non-null  int64  \n",
      " 10  totalCases                       1557786 non-null  int64  \n",
      " 11  deaths_per_100k_inhabitants      1557786 non-null  float64\n",
      " 12  totalCases_per_100k_inhabitants  1557786 non-null  float64\n",
      " 13  deaths_by_totalCases             1557786 non-null  float64\n",
      " 14  _source                          1557073 non-null  object \n",
      " 15  last_info_date                   1557073 non-null  object \n",
      "dtypes: float64(3), int64(7), object(6)\n",
      "memory usage: 190.2+ MB\n"
     ]
    }
   ],
   "source": [
    "#Exibe as informações de cada coluna, inclusive número total da amostra: 1557786\n",
    "df.info()"
   ]
  },
  {
   "cell_type": "code",
   "execution_count": 7,
   "metadata": {},
   "outputs": [
    {
     "data": {
      "text/plain": [
       "RangeIndex(start=0, stop=1557786, step=1)"
      ]
     },
     "execution_count": 7,
     "metadata": {},
     "output_type": "execute_result"
    }
   ],
   "source": [
    "#Começa em zero, vai até 1557786 pulando de 1 em 1.\n",
    "df.index"
   ]
  },
  {
   "cell_type": "markdown",
   "metadata": {},
   "source": [
    "### 3. Definição do índice"
   ]
  },
  {
   "cell_type": "code",
   "execution_count": 8,
   "metadata": {},
   "outputs": [
    {
     "data": {
      "text/html": [
       "<div>\n",
       "<style scoped>\n",
       "    .dataframe tbody tr th:only-of-type {\n",
       "        vertical-align: middle;\n",
       "    }\n",
       "\n",
       "    .dataframe tbody tr th {\n",
       "        vertical-align: top;\n",
       "    }\n",
       "\n",
       "    .dataframe thead th {\n",
       "        text-align: right;\n",
       "    }\n",
       "</style>\n",
       "<table border=\"1\" class=\"dataframe\">\n",
       "  <thead>\n",
       "    <tr style=\"text-align: right;\">\n",
       "      <th></th>\n",
       "      <th>epi_week</th>\n",
       "      <th>date</th>\n",
       "      <th>country</th>\n",
       "      <th>state</th>\n",
       "      <th>city</th>\n",
       "      <th>ibgeID</th>\n",
       "      <th>newDeaths</th>\n",
       "      <th>deaths</th>\n",
       "      <th>newCases</th>\n",
       "      <th>totalCases</th>\n",
       "      <th>deaths_per_100k_inhabitants</th>\n",
       "      <th>totalCases_per_100k_inhabitants</th>\n",
       "      <th>deaths_by_totalCases</th>\n",
       "      <th>_source</th>\n",
       "      <th>last_info_date</th>\n",
       "    </tr>\n",
       "    <tr>\n",
       "      <th>index</th>\n",
       "      <th></th>\n",
       "      <th></th>\n",
       "      <th></th>\n",
       "      <th></th>\n",
       "      <th></th>\n",
       "      <th></th>\n",
       "      <th></th>\n",
       "      <th></th>\n",
       "      <th></th>\n",
       "      <th></th>\n",
       "      <th></th>\n",
       "      <th></th>\n",
       "      <th></th>\n",
       "      <th></th>\n",
       "      <th></th>\n",
       "    </tr>\n",
       "  </thead>\n",
       "  <tbody>\n",
       "    <tr>\n",
       "      <th>0</th>\n",
       "      <td>9</td>\n",
       "      <td>2020-02-25</td>\n",
       "      <td>Brazil</td>\n",
       "      <td>SP</td>\n",
       "      <td>São Paulo/SP</td>\n",
       "      <td>3550308</td>\n",
       "      <td>0</td>\n",
       "      <td>0</td>\n",
       "      <td>1</td>\n",
       "      <td>1</td>\n",
       "      <td>0.0</td>\n",
       "      <td>0.008</td>\n",
       "      <td>0.0</td>\n",
       "      <td>SES</td>\n",
       "      <td>2021-12-06</td>\n",
       "    </tr>\n",
       "    <tr>\n",
       "      <th>1</th>\n",
       "      <td>9</td>\n",
       "      <td>2020-02-25</td>\n",
       "      <td>Brazil</td>\n",
       "      <td>TOTAL</td>\n",
       "      <td>TOTAL</td>\n",
       "      <td>0</td>\n",
       "      <td>0</td>\n",
       "      <td>0</td>\n",
       "      <td>1</td>\n",
       "      <td>1</td>\n",
       "      <td>0.0</td>\n",
       "      <td>0.000</td>\n",
       "      <td>0.0</td>\n",
       "      <td>NaN</td>\n",
       "      <td>NaN</td>\n",
       "    </tr>\n",
       "    <tr>\n",
       "      <th>2</th>\n",
       "      <td>9</td>\n",
       "      <td>2020-02-28</td>\n",
       "      <td>Brazil</td>\n",
       "      <td>SP</td>\n",
       "      <td>São Paulo/SP</td>\n",
       "      <td>3550308</td>\n",
       "      <td>0</td>\n",
       "      <td>0</td>\n",
       "      <td>1</td>\n",
       "      <td>2</td>\n",
       "      <td>0.0</td>\n",
       "      <td>0.016</td>\n",
       "      <td>0.0</td>\n",
       "      <td>SES</td>\n",
       "      <td>2021-12-06</td>\n",
       "    </tr>\n",
       "    <tr>\n",
       "      <th>3</th>\n",
       "      <td>9</td>\n",
       "      <td>2020-02-28</td>\n",
       "      <td>Brazil</td>\n",
       "      <td>TOTAL</td>\n",
       "      <td>TOTAL</td>\n",
       "      <td>0</td>\n",
       "      <td>0</td>\n",
       "      <td>0</td>\n",
       "      <td>1</td>\n",
       "      <td>2</td>\n",
       "      <td>0.0</td>\n",
       "      <td>0.001</td>\n",
       "      <td>0.0</td>\n",
       "      <td>NaN</td>\n",
       "      <td>NaN</td>\n",
       "    </tr>\n",
       "    <tr>\n",
       "      <th>4</th>\n",
       "      <td>10</td>\n",
       "      <td>2020-03-04</td>\n",
       "      <td>Brazil</td>\n",
       "      <td>SP</td>\n",
       "      <td>São Paulo/SP</td>\n",
       "      <td>3550308</td>\n",
       "      <td>0</td>\n",
       "      <td>0</td>\n",
       "      <td>1</td>\n",
       "      <td>3</td>\n",
       "      <td>0.0</td>\n",
       "      <td>0.024</td>\n",
       "      <td>0.0</td>\n",
       "      <td>SES</td>\n",
       "      <td>2021-12-06</td>\n",
       "    </tr>\n",
       "  </tbody>\n",
       "</table>\n",
       "</div>"
      ],
      "text/plain": [
       "       epi_week        date country  state          city   ibgeID  newDeaths  \\\n",
       "index                                                                          \n",
       "0             9  2020-02-25  Brazil     SP  São Paulo/SP  3550308          0   \n",
       "1             9  2020-02-25  Brazil  TOTAL         TOTAL        0          0   \n",
       "2             9  2020-02-28  Brazil     SP  São Paulo/SP  3550308          0   \n",
       "3             9  2020-02-28  Brazil  TOTAL         TOTAL        0          0   \n",
       "4            10  2020-03-04  Brazil     SP  São Paulo/SP  3550308          0   \n",
       "\n",
       "       deaths  newCases  totalCases  deaths_per_100k_inhabitants  \\\n",
       "index                                                              \n",
       "0           0         1           1                          0.0   \n",
       "1           0         1           1                          0.0   \n",
       "2           0         1           2                          0.0   \n",
       "3           0         1           2                          0.0   \n",
       "4           0         1           3                          0.0   \n",
       "\n",
       "       totalCases_per_100k_inhabitants  deaths_by_totalCases _source  \\\n",
       "index                                                                  \n",
       "0                                0.008                   0.0     SES   \n",
       "1                                0.000                   0.0     NaN   \n",
       "2                                0.016                   0.0     SES   \n",
       "3                                0.001                   0.0     NaN   \n",
       "4                                0.024                   0.0     SES   \n",
       "\n",
       "      last_info_date  \n",
       "index                 \n",
       "0         2021-12-06  \n",
       "1                NaN  \n",
       "2         2021-12-06  \n",
       "3                NaN  \n",
       "4         2021-12-06  "
      ]
     },
     "execution_count": 8,
     "metadata": {},
     "output_type": "execute_result"
    }
   ],
   "source": [
    "#Atribuimos a coluna index como novo índice, do Datafrae, atráves do parâmetro inplace.\n",
    "df.set_index('index', inplace=True)\n",
    "df.head()"
   ]
  },
  {
   "cell_type": "markdown",
   "metadata": {},
   "source": [
    "### 4. Consultando os dados"
   ]
  },
  {
   "cell_type": "code",
   "execution_count": 9,
   "metadata": {},
   "outputs": [
    {
     "data": {
      "text/plain": [
       "epi_week                                    9\n",
       "date                               2020-02-25\n",
       "country                                Brazil\n",
       "state                                   TOTAL\n",
       "city                                    TOTAL\n",
       "ibgeID                                      0\n",
       "newDeaths                                   0\n",
       "deaths                                      0\n",
       "newCases                                    1\n",
       "totalCases                                  1\n",
       "deaths_per_100k_inhabitants               0.0\n",
       "totalCases_per_100k_inhabitants           0.0\n",
       "deaths_by_totalCases                      0.0\n",
       "_source                                   NaN\n",
       "last_info_date                            NaN\n",
       "Name: 1, dtype: object"
      ]
     },
     "execution_count": 9,
     "metadata": {},
     "output_type": "execute_result"
    }
   ],
   "source": [
    "#Retorne todas as informações do 1º individuo, utilizando loc\n",
    "df.loc[1]"
   ]
  },
  {
   "cell_type": "code",
   "execution_count": 10,
   "metadata": {},
   "outputs": [
    {
     "data": {
      "text/html": [
       "<div>\n",
       "<style scoped>\n",
       "    .dataframe tbody tr th:only-of-type {\n",
       "        vertical-align: middle;\n",
       "    }\n",
       "\n",
       "    .dataframe tbody tr th {\n",
       "        vertical-align: top;\n",
       "    }\n",
       "\n",
       "    .dataframe thead th {\n",
       "        text-align: right;\n",
       "    }\n",
       "</style>\n",
       "<table border=\"1\" class=\"dataframe\">\n",
       "  <thead>\n",
       "    <tr style=\"text-align: right;\">\n",
       "      <th></th>\n",
       "      <th>epi_week</th>\n",
       "      <th>date</th>\n",
       "      <th>country</th>\n",
       "      <th>state</th>\n",
       "      <th>city</th>\n",
       "      <th>ibgeID</th>\n",
       "      <th>newDeaths</th>\n",
       "      <th>deaths</th>\n",
       "      <th>newCases</th>\n",
       "      <th>totalCases</th>\n",
       "      <th>deaths_per_100k_inhabitants</th>\n",
       "      <th>totalCases_per_100k_inhabitants</th>\n",
       "      <th>deaths_by_totalCases</th>\n",
       "      <th>_source</th>\n",
       "      <th>last_info_date</th>\n",
       "    </tr>\n",
       "    <tr>\n",
       "      <th>index</th>\n",
       "      <th></th>\n",
       "      <th></th>\n",
       "      <th></th>\n",
       "      <th></th>\n",
       "      <th></th>\n",
       "      <th></th>\n",
       "      <th></th>\n",
       "      <th></th>\n",
       "      <th></th>\n",
       "      <th></th>\n",
       "      <th></th>\n",
       "      <th></th>\n",
       "      <th></th>\n",
       "      <th></th>\n",
       "      <th></th>\n",
       "    </tr>\n",
       "  </thead>\n",
       "  <tbody>\n",
       "    <tr>\n",
       "      <th>2</th>\n",
       "      <td>9</td>\n",
       "      <td>2020-02-28</td>\n",
       "      <td>Brazil</td>\n",
       "      <td>SP</td>\n",
       "      <td>São Paulo/SP</td>\n",
       "      <td>3550308</td>\n",
       "      <td>0</td>\n",
       "      <td>0</td>\n",
       "      <td>1</td>\n",
       "      <td>2</td>\n",
       "      <td>0.0</td>\n",
       "      <td>0.016</td>\n",
       "      <td>0.0</td>\n",
       "      <td>SES</td>\n",
       "      <td>2021-12-06</td>\n",
       "    </tr>\n",
       "    <tr>\n",
       "      <th>3</th>\n",
       "      <td>9</td>\n",
       "      <td>2020-02-28</td>\n",
       "      <td>Brazil</td>\n",
       "      <td>TOTAL</td>\n",
       "      <td>TOTAL</td>\n",
       "      <td>0</td>\n",
       "      <td>0</td>\n",
       "      <td>0</td>\n",
       "      <td>1</td>\n",
       "      <td>2</td>\n",
       "      <td>0.0</td>\n",
       "      <td>0.001</td>\n",
       "      <td>0.0</td>\n",
       "      <td>NaN</td>\n",
       "      <td>NaN</td>\n",
       "    </tr>\n",
       "    <tr>\n",
       "      <th>4</th>\n",
       "      <td>10</td>\n",
       "      <td>2020-03-04</td>\n",
       "      <td>Brazil</td>\n",
       "      <td>SP</td>\n",
       "      <td>São Paulo/SP</td>\n",
       "      <td>3550308</td>\n",
       "      <td>0</td>\n",
       "      <td>0</td>\n",
       "      <td>1</td>\n",
       "      <td>3</td>\n",
       "      <td>0.0</td>\n",
       "      <td>0.024</td>\n",
       "      <td>0.0</td>\n",
       "      <td>SES</td>\n",
       "      <td>2021-12-06</td>\n",
       "    </tr>\n",
       "    <tr>\n",
       "      <th>5</th>\n",
       "      <td>10</td>\n",
       "      <td>2020-03-04</td>\n",
       "      <td>Brazil</td>\n",
       "      <td>TOTAL</td>\n",
       "      <td>TOTAL</td>\n",
       "      <td>0</td>\n",
       "      <td>0</td>\n",
       "      <td>0</td>\n",
       "      <td>1</td>\n",
       "      <td>3</td>\n",
       "      <td>0.0</td>\n",
       "      <td>0.001</td>\n",
       "      <td>0.0</td>\n",
       "      <td>NaN</td>\n",
       "      <td>NaN</td>\n",
       "    </tr>\n",
       "    <tr>\n",
       "      <th>7</th>\n",
       "      <td>10</td>\n",
       "      <td>2020-03-05</td>\n",
       "      <td>Brazil</td>\n",
       "      <td>SP</td>\n",
       "      <td>São Paulo/SP</td>\n",
       "      <td>3550308</td>\n",
       "      <td>0</td>\n",
       "      <td>0</td>\n",
       "      <td>3</td>\n",
       "      <td>6</td>\n",
       "      <td>0.0</td>\n",
       "      <td>0.048</td>\n",
       "      <td>0.0</td>\n",
       "      <td>SES</td>\n",
       "      <td>2021-12-06</td>\n",
       "    </tr>\n",
       "  </tbody>\n",
       "</table>\n",
       "</div>"
      ],
      "text/plain": [
       "       epi_week        date country  state          city   ibgeID  newDeaths  \\\n",
       "index                                                                          \n",
       "2             9  2020-02-28  Brazil     SP  São Paulo/SP  3550308          0   \n",
       "3             9  2020-02-28  Brazil  TOTAL         TOTAL        0          0   \n",
       "4            10  2020-03-04  Brazil     SP  São Paulo/SP  3550308          0   \n",
       "5            10  2020-03-04  Brazil  TOTAL         TOTAL        0          0   \n",
       "7            10  2020-03-05  Brazil     SP  São Paulo/SP  3550308          0   \n",
       "\n",
       "       deaths  newCases  totalCases  deaths_per_100k_inhabitants  \\\n",
       "index                                                              \n",
       "2           0         1           2                          0.0   \n",
       "3           0         1           2                          0.0   \n",
       "4           0         1           3                          0.0   \n",
       "5           0         1           3                          0.0   \n",
       "7           0         3           6                          0.0   \n",
       "\n",
       "       totalCases_per_100k_inhabitants  deaths_by_totalCases _source  \\\n",
       "index                                                                  \n",
       "2                                0.016                   0.0     SES   \n",
       "3                                0.001                   0.0     NaN   \n",
       "4                                0.024                   0.0     SES   \n",
       "5                                0.001                   0.0     NaN   \n",
       "7                                0.048                   0.0     SES   \n",
       "\n",
       "      last_info_date  \n",
       "index                 \n",
       "2         2021-12-06  \n",
       "3                NaN  \n",
       "4         2021-12-06  \n",
       "5                NaN  \n",
       "7         2021-12-06  "
      ]
     },
     "execution_count": 10,
     "metadata": {},
     "output_type": "execute_result"
    }
   ],
   "source": [
    "#Retorna os 5 primeiros casos onde na coluna total de casos seja maior que 1 ou novos casos maior que 1, utilizando o query\n",
    "df.query('totalCases > 1 | newCases > 1').head(5)"
   ]
  },
  {
   "cell_type": "markdown",
   "metadata": {},
   "source": [
    "### 5. Analisando um DataFrame com o Profiling:"
   ]
  },
  {
   "cell_type": "code",
   "execution_count": 11,
   "metadata": {},
   "outputs": [],
   "source": [
    "import pandas_profiling"
   ]
  },
  {
   "cell_type": "raw",
   "metadata": {},
   "source": [
    "Com o Pandas Profiling temos informações e uma visão geral sobre o nosso conjunto de dados: nome das colunas e seus tipos, a quantidade de linhas e de colunas, e a porcentagem de valores Missing (dados faltantes).\n",
    "Podemos ainda observar informações específicas para cada variável do DataFrame, como a média, o valor máximo, o valor mínimo, a quantidade de valores únicos e por último mais de extrema importância, um gráfico de correlação entre as variáveis.\n",
    "\n",
    "Como a amostra é muito grande e meu computador não tem lá toda essa capacidade, sempre que eu deixo rodando leva horas para executar, por isso deixarei o comando comentado. Se o seu computador tiver uma boa memória, manda ver."
   ]
  },
  {
   "cell_type": "raw",
   "metadata": {},
   "source": [
    "profile = pandas_profiling.ProfileReport(df, title='Covid base',\n",
    "                 html={'style': {'full_width': True}}, sort=\"ascending\")\n",
    "profile"
   ]
  },
  {
   "cell_type": "raw",
   "metadata": {},
   "source": [
    "A linha de código acima cria um relatório de análise exploratória em HTML com os dados. O resultado será exibido em relatório no próprio Notebook, no entanto, caso queria salvar em um arquivo HTML pode executar o código:\n",
    "profile.to_file('Covid.html')"
   ]
  },
  {
   "cell_type": "code",
   "execution_count": 12,
   "metadata": {},
   "outputs": [
    {
     "data": {
      "text/html": [
       "<div>\n",
       "<style scoped>\n",
       "    .dataframe tbody tr th:only-of-type {\n",
       "        vertical-align: middle;\n",
       "    }\n",
       "\n",
       "    .dataframe tbody tr th {\n",
       "        vertical-align: top;\n",
       "    }\n",
       "\n",
       "    .dataframe thead th {\n",
       "        text-align: right;\n",
       "    }\n",
       "</style>\n",
       "<table border=\"1\" class=\"dataframe\">\n",
       "  <thead>\n",
       "    <tr style=\"text-align: right;\">\n",
       "      <th></th>\n",
       "      <th>epi_week</th>\n",
       "      <th>ibgeID</th>\n",
       "      <th>newDeaths</th>\n",
       "      <th>deaths</th>\n",
       "      <th>newCases</th>\n",
       "      <th>totalCases</th>\n",
       "      <th>deaths_per_100k_inhabitants</th>\n",
       "      <th>totalCases_per_100k_inhabitants</th>\n",
       "      <th>deaths_by_totalCases</th>\n",
       "    </tr>\n",
       "  </thead>\n",
       "  <tbody>\n",
       "    <tr>\n",
       "      <th>count</th>\n",
       "      <td>1.557786e+06</td>\n",
       "      <td>1.557786e+06</td>\n",
       "      <td>1.557786e+06</td>\n",
       "      <td>1.557786e+06</td>\n",
       "      <td>1.557786e+06</td>\n",
       "      <td>1.557786e+06</td>\n",
       "      <td>1.557786e+06</td>\n",
       "      <td>1.557786e+06</td>\n",
       "      <td>1.557786e+06</td>\n",
       "    </tr>\n",
       "    <tr>\n",
       "      <th>mean</th>\n",
       "      <td>9.716561e+01</td>\n",
       "      <td>3.290185e+06</td>\n",
       "      <td>8.199817e-01</td>\n",
       "      <td>2.504003e+02</td>\n",
       "      <td>3.529755e+01</td>\n",
       "      <td>9.038872e+03</td>\n",
       "      <td>1.233590e+02</td>\n",
       "      <td>6.019286e+03</td>\n",
       "      <td>2.487765e-02</td>\n",
       "    </tr>\n",
       "    <tr>\n",
       "      <th>std</th>\n",
       "      <td>5.182002e+01</td>\n",
       "      <td>1.010766e+06</td>\n",
       "      <td>2.576453e+01</td>\n",
       "      <td>8.340825e+03</td>\n",
       "      <td>1.159999e+03</td>\n",
       "      <td>3.052493e+05</td>\n",
       "      <td>1.143814e+02</td>\n",
       "      <td>5.279947e+03</td>\n",
       "      <td>3.153925e-02</td>\n",
       "    </tr>\n",
       "    <tr>\n",
       "      <th>min</th>\n",
       "      <td>9.000000e+00</td>\n",
       "      <td>0.000000e+00</td>\n",
       "      <td>-1.789000e+03</td>\n",
       "      <td>0.000000e+00</td>\n",
       "      <td>-1.272940e+05</td>\n",
       "      <td>0.000000e+00</td>\n",
       "      <td>0.000000e+00</td>\n",
       "      <td>0.000000e+00</td>\n",
       "      <td>0.000000e+00</td>\n",
       "    </tr>\n",
       "    <tr>\n",
       "      <th>25%</th>\n",
       "      <td>4.300000e+01</td>\n",
       "      <td>2.603900e+06</td>\n",
       "      <td>0.000000e+00</td>\n",
       "      <td>4.000000e+00</td>\n",
       "      <td>1.000000e+00</td>\n",
       "      <td>2.450000e+02</td>\n",
       "      <td>3.312400e+01</td>\n",
       "      <td>1.762115e+03</td>\n",
       "      <td>1.300000e-02</td>\n",
       "    </tr>\n",
       "    <tr>\n",
       "      <th>50%</th>\n",
       "      <td>1.110000e+02</td>\n",
       "      <td>3.170206e+06</td>\n",
       "      <td>0.000000e+00</td>\n",
       "      <td>1.500000e+01</td>\n",
       "      <td>4.000000e+00</td>\n",
       "      <td>7.530000e+02</td>\n",
       "      <td>8.986300e+01</td>\n",
       "      <td>4.626730e+03</td>\n",
       "      <td>2.000000e-02</td>\n",
       "    </tr>\n",
       "    <tr>\n",
       "      <th>75%</th>\n",
       "      <td>1.280000e+02</td>\n",
       "      <td>4.123303e+06</td>\n",
       "      <td>0.000000e+00</td>\n",
       "      <td>4.800000e+01</td>\n",
       "      <td>1.100000e+01</td>\n",
       "      <td>2.262000e+03</td>\n",
       "      <td>1.861700e+02</td>\n",
       "      <td>9.118541e+03</td>\n",
       "      <td>2.900000e-02</td>\n",
       "    </tr>\n",
       "    <tr>\n",
       "      <th>max</th>\n",
       "      <td>2.070000e+02</td>\n",
       "      <td>5.300108e+06</td>\n",
       "      <td>4.148000e+03</td>\n",
       "      <td>6.386730e+05</td>\n",
       "      <td>2.854510e+05</td>\n",
       "      <td>2.749290e+07</td>\n",
       "      <td>1.739130e+03</td>\n",
       "      <td>2.192422e+05</td>\n",
       "      <td>4.000000e+00</td>\n",
       "    </tr>\n",
       "  </tbody>\n",
       "</table>\n",
       "</div>"
      ],
      "text/plain": [
       "           epi_week        ibgeID     newDeaths        deaths      newCases  \\\n",
       "count  1.557786e+06  1.557786e+06  1.557786e+06  1.557786e+06  1.557786e+06   \n",
       "mean   9.716561e+01  3.290185e+06  8.199817e-01  2.504003e+02  3.529755e+01   \n",
       "std    5.182002e+01  1.010766e+06  2.576453e+01  8.340825e+03  1.159999e+03   \n",
       "min    9.000000e+00  0.000000e+00 -1.789000e+03  0.000000e+00 -1.272940e+05   \n",
       "25%    4.300000e+01  2.603900e+06  0.000000e+00  4.000000e+00  1.000000e+00   \n",
       "50%    1.110000e+02  3.170206e+06  0.000000e+00  1.500000e+01  4.000000e+00   \n",
       "75%    1.280000e+02  4.123303e+06  0.000000e+00  4.800000e+01  1.100000e+01   \n",
       "max    2.070000e+02  5.300108e+06  4.148000e+03  6.386730e+05  2.854510e+05   \n",
       "\n",
       "         totalCases  deaths_per_100k_inhabitants  \\\n",
       "count  1.557786e+06                 1.557786e+06   \n",
       "mean   9.038872e+03                 1.233590e+02   \n",
       "std    3.052493e+05                 1.143814e+02   \n",
       "min    0.000000e+00                 0.000000e+00   \n",
       "25%    2.450000e+02                 3.312400e+01   \n",
       "50%    7.530000e+02                 8.986300e+01   \n",
       "75%    2.262000e+03                 1.861700e+02   \n",
       "max    2.749290e+07                 1.739130e+03   \n",
       "\n",
       "       totalCases_per_100k_inhabitants  deaths_by_totalCases  \n",
       "count                     1.557786e+06          1.557786e+06  \n",
       "mean                      6.019286e+03          2.487765e-02  \n",
       "std                       5.279947e+03          3.153925e-02  \n",
       "min                       0.000000e+00          0.000000e+00  \n",
       "25%                       1.762115e+03          1.300000e-02  \n",
       "50%                       4.626730e+03          2.000000e-02  \n",
       "75%                       9.118541e+03          2.900000e-02  \n",
       "max                       2.192422e+05          4.000000e+00  "
      ]
     },
     "execution_count": 12,
     "metadata": {},
     "output_type": "execute_result"
    }
   ],
   "source": [
    "#verificando dados estatísticos\n",
    "df.describe()"
   ]
  },
  {
   "cell_type": "markdown",
   "metadata": {},
   "source": [
    "### 6. Data Cleaning com o Pandas"
   ]
  },
  {
   "cell_type": "raw",
   "metadata": {},
   "source": [
    "Esse problema é muito comum e deve ser tratado, já que os modelos de Machine Learning não são capazes de lidar com valores ausentes. Vale lembrar que não se deve fazer isso caso não seja necessário. Tudo vai depender da pesquisa que se quer fazer. Muitas das vezes, a depender da variável, ela pode simplesmente ser excluida, caso não sirva para a análise."
   ]
  },
  {
   "cell_type": "code",
   "execution_count": 14,
   "metadata": {},
   "outputs": [
    {
     "data": {
      "text/plain": [
       "epi_week                             0\n",
       "date                                 0\n",
       "country                              0\n",
       "state                                0\n",
       "city                                 0\n",
       "ibgeID                               0\n",
       "newDeaths                            0\n",
       "deaths                               0\n",
       "newCases                             0\n",
       "totalCases                           0\n",
       "deaths_per_100k_inhabitants          0\n",
       "totalCases_per_100k_inhabitants      0\n",
       "deaths_by_totalCases                 0\n",
       "_source                            365\n",
       "last_info_date                     365\n",
       "dtype: int64"
      ]
     },
     "execution_count": 14,
     "metadata": {},
     "output_type": "execute_result"
    }
   ],
   "source": [
    "#Retorna a soma dos valores nulos encontrados por coluna\n",
    "df.isnull().sum()"
   ]
  },
  {
   "cell_type": "code",
   "execution_count": 16,
   "metadata": {},
   "outputs": [],
   "source": [
    "#Preencher os valores faltantes das colunas com a moda. \n",
    "values = {'_source': df._source.mode()[0], 'last_info_date': df.last_info_date.mode()[0]}"
   ]
  },
  {
   "cell_type": "code",
   "execution_count": 17,
   "metadata": {},
   "outputs": [
    {
     "data": {
      "text/plain": [
       "{'_source': 'SES', 'last_info_date': '2021-12-06'}"
      ]
     },
     "execution_count": 17,
     "metadata": {},
     "output_type": "execute_result"
    }
   ],
   "source": [
    "values"
   ]
  },
  {
   "cell_type": "code",
   "execution_count": 18,
   "metadata": {},
   "outputs": [],
   "source": [
    "# Atribuido os novos valores\n",
    "df.fillna(value=values, inplace=True)"
   ]
  },
  {
   "cell_type": "code",
   "execution_count": 19,
   "metadata": {
    "scrolled": true
   },
   "outputs": [
    {
     "data": {
      "text/plain": [
       "epi_week                           0\n",
       "date                               0\n",
       "country                            0\n",
       "state                              0\n",
       "city                               0\n",
       "ibgeID                             0\n",
       "newDeaths                          0\n",
       "deaths                             0\n",
       "newCases                           0\n",
       "totalCases                         0\n",
       "deaths_per_100k_inhabitants        0\n",
       "totalCases_per_100k_inhabitants    0\n",
       "deaths_by_totalCases               0\n",
       "_source                            0\n",
       "last_info_date                     0\n",
       "dtype: int64"
      ]
     },
     "execution_count": 19,
     "metadata": {},
     "output_type": "execute_result"
    }
   ],
   "source": [
    "df.isnull().sum()"
   ]
  },
  {
   "cell_type": "markdown",
   "metadata": {},
   "source": [
    "### 7. Fontes\n",
    "\n",
    "- Utilização do Python com a biblioteca Pandas.\n",
    "\n",
    "    1. https://medium.com/@jair.oliveira1204/an%C3%A1lise-explorat%C3%B3ria-de-dados-com-pandas-profiling-8c2edeeb6958\n",
    "    2. https://towardsdatascience.com/exploratory-data-analysis-with-pandas-profiling-de3aae2ddff3"
   ]
  }
 ],
 "metadata": {
  "kernelspec": {
   "display_name": "Python 3",
   "language": "python",
   "name": "python3"
  },
  "language_info": {
   "codemirror_mode": {
    "name": "ipython",
    "version": 3
   },
   "file_extension": ".py",
   "mimetype": "text/x-python",
   "name": "python",
   "nbconvert_exporter": "python",
   "pygments_lexer": "ipython3",
   "version": "3.7.4"
  }
 },
 "nbformat": 4,
 "nbformat_minor": 2
}
