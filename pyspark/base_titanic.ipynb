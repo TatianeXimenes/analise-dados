{
 "cells": [
  {
   "cell_type": "markdown",
   "metadata": {},
   "source": [
    "# Análise de dados"
   ]
  },
  {
   "cell_type": "raw",
   "metadata": {},
   "source": [
    "PySpark é a interface alto nível que permite você conseguir acessar e usar o Spark por meio da linguagem Python. Usando o PySpark, você consegue escrever todo o seu código usando apenas o nosso estilo Python de escrever código."
   ]
  },
  {
   "cell_type": "markdown",
   "metadata": {},
   "source": [
    "## Estrutura do notebook"
   ]
  },
  {
   "cell_type": "markdown",
   "metadata": {},
   "source": [
    "[1. Importação das bibliotecas](#1.-Importa%C3%A7%C3%A3o-das-bibliotecas)<br>\n",
    "[2. Informações da amostra](#2.-Informa%C3%A7%C3%B5es-da-base)<br>\n",
    "[3. Escolhendo e tratando colunas](#3.-Escolhendo-e-tratando-colunas-desejadas)<br>\n",
    "[4. Obtendo informações através de gráficos](#4.-Obtendo-informa%C3%A7%C3%B5es-atraves-de-graficos)<br>\n",
    "[5. Juntanto colunas em único gráfico](#5.-Juntanto-colunas-em-%C3%BAnico-gr%C3%A1fico)<br>\n",
    "[6. Spark para manipulação de strings](#6.-Spark-para-Manipula%C3%A7%C3%A3o-de-Strings:)<br>\n",
    "[7. Dicionário](#7.-Dicion%C3%A1rio)<br>\n",
    "[8. Fontes](#7.-Fontes)"
   ]
  },
  {
   "cell_type": "markdown",
   "metadata": {},
   "source": [
    "### 1. Importação das bibliotecas"
   ]
  },
  {
   "cell_type": "code",
   "execution_count": 1,
   "metadata": {},
   "outputs": [],
   "source": [
    "import pandas as pd\n",
    "import pyspark.sql.functions as F\n",
    "from pyspark.sql.types import *\n",
    "from pyspark.sql import Window"
   ]
  },
  {
   "cell_type": "markdown",
   "metadata": {},
   "source": [
    "### 2. Informações da base"
   ]
  },
  {
   "cell_type": "code",
   "execution_count": 2,
   "metadata": {},
   "outputs": [],
   "source": [
    "#Leitura da base\n",
    "df = spark.read.csv('/home/tatiane/Downloads/CURSO_BIGDATA/titanic.csv', sep = ',', header = True)"
   ]
  },
  {
   "cell_type": "code",
   "execution_count": 3,
   "metadata": {},
   "outputs": [
    {
     "data": {
      "text/html": [
       "<div>\n",
       "<style scoped>\n",
       "    .dataframe tbody tr th:only-of-type {\n",
       "        vertical-align: middle;\n",
       "    }\n",
       "\n",
       "    .dataframe tbody tr th {\n",
       "        vertical-align: top;\n",
       "    }\n",
       "\n",
       "    .dataframe thead th {\n",
       "        text-align: right;\n",
       "    }\n",
       "</style>\n",
       "<table border=\"1\" class=\"dataframe\">\n",
       "  <thead>\n",
       "    <tr style=\"text-align: right;\">\n",
       "      <th></th>\n",
       "      <th>PassengerId</th>\n",
       "      <th>Survived</th>\n",
       "      <th>Pclass</th>\n",
       "      <th>Name</th>\n",
       "      <th>Sex</th>\n",
       "      <th>Age</th>\n",
       "      <th>SibSp</th>\n",
       "      <th>Parch</th>\n",
       "      <th>Ticket</th>\n",
       "      <th>Fare</th>\n",
       "      <th>Cabin</th>\n",
       "      <th>Embarked</th>\n",
       "    </tr>\n",
       "  </thead>\n",
       "  <tbody>\n",
       "    <tr>\n",
       "      <th>0</th>\n",
       "      <td>1</td>\n",
       "      <td>0</td>\n",
       "      <td>3</td>\n",
       "      <td>Braund, Mr. Owen Harris</td>\n",
       "      <td>male</td>\n",
       "      <td>22</td>\n",
       "      <td>1</td>\n",
       "      <td>0</td>\n",
       "      <td>A/5 21171</td>\n",
       "      <td>7.25</td>\n",
       "      <td>None</td>\n",
       "      <td>S</td>\n",
       "    </tr>\n",
       "    <tr>\n",
       "      <th>1</th>\n",
       "      <td>2</td>\n",
       "      <td>1</td>\n",
       "      <td>1</td>\n",
       "      <td>Cumings, Mrs. John Bradley (Florence Briggs Th...</td>\n",
       "      <td>female</td>\n",
       "      <td>38</td>\n",
       "      <td>1</td>\n",
       "      <td>0</td>\n",
       "      <td>PC 17599</td>\n",
       "      <td>71.2833</td>\n",
       "      <td>C85</td>\n",
       "      <td>C</td>\n",
       "    </tr>\n",
       "    <tr>\n",
       "      <th>2</th>\n",
       "      <td>3</td>\n",
       "      <td>1</td>\n",
       "      <td>3</td>\n",
       "      <td>Heikkinen, Miss. Laina</td>\n",
       "      <td>female</td>\n",
       "      <td>26</td>\n",
       "      <td>0</td>\n",
       "      <td>0</td>\n",
       "      <td>STON/O2. 3101282</td>\n",
       "      <td>7.925</td>\n",
       "      <td>None</td>\n",
       "      <td>S</td>\n",
       "    </tr>\n",
       "    <tr>\n",
       "      <th>3</th>\n",
       "      <td>4</td>\n",
       "      <td>1</td>\n",
       "      <td>1</td>\n",
       "      <td>Futrelle, Mrs. Jacques Heath (Lily May Peel)</td>\n",
       "      <td>female</td>\n",
       "      <td>35</td>\n",
       "      <td>1</td>\n",
       "      <td>0</td>\n",
       "      <td>113803</td>\n",
       "      <td>53.1</td>\n",
       "      <td>C123</td>\n",
       "      <td>S</td>\n",
       "    </tr>\n",
       "    <tr>\n",
       "      <th>4</th>\n",
       "      <td>5</td>\n",
       "      <td>0</td>\n",
       "      <td>3</td>\n",
       "      <td>Allen, Mr. William Henry</td>\n",
       "      <td>male</td>\n",
       "      <td>35</td>\n",
       "      <td>0</td>\n",
       "      <td>0</td>\n",
       "      <td>373450</td>\n",
       "      <td>8.05</td>\n",
       "      <td>None</td>\n",
       "      <td>S</td>\n",
       "    </tr>\n",
       "    <tr>\n",
       "      <th>5</th>\n",
       "      <td>6</td>\n",
       "      <td>0</td>\n",
       "      <td>3</td>\n",
       "      <td>Moran, Mr. James</td>\n",
       "      <td>male</td>\n",
       "      <td>None</td>\n",
       "      <td>0</td>\n",
       "      <td>0</td>\n",
       "      <td>330877</td>\n",
       "      <td>8.4583</td>\n",
       "      <td>None</td>\n",
       "      <td>Q</td>\n",
       "    </tr>\n",
       "    <tr>\n",
       "      <th>6</th>\n",
       "      <td>7</td>\n",
       "      <td>0</td>\n",
       "      <td>1</td>\n",
       "      <td>McCarthy, Mr. Timothy J</td>\n",
       "      <td>male</td>\n",
       "      <td>54</td>\n",
       "      <td>0</td>\n",
       "      <td>0</td>\n",
       "      <td>17463</td>\n",
       "      <td>51.8625</td>\n",
       "      <td>E46</td>\n",
       "      <td>S</td>\n",
       "    </tr>\n",
       "    <tr>\n",
       "      <th>7</th>\n",
       "      <td>8</td>\n",
       "      <td>0</td>\n",
       "      <td>3</td>\n",
       "      <td>Palsson, Master. Gosta Leonard</td>\n",
       "      <td>male</td>\n",
       "      <td>2</td>\n",
       "      <td>3</td>\n",
       "      <td>1</td>\n",
       "      <td>349909</td>\n",
       "      <td>21.075</td>\n",
       "      <td>None</td>\n",
       "      <td>S</td>\n",
       "    </tr>\n",
       "    <tr>\n",
       "      <th>8</th>\n",
       "      <td>9</td>\n",
       "      <td>1</td>\n",
       "      <td>3</td>\n",
       "      <td>Johnson, Mrs. Oscar W (Elisabeth Vilhelmina Berg)</td>\n",
       "      <td>female</td>\n",
       "      <td>27</td>\n",
       "      <td>0</td>\n",
       "      <td>2</td>\n",
       "      <td>347742</td>\n",
       "      <td>11.1333</td>\n",
       "      <td>None</td>\n",
       "      <td>S</td>\n",
       "    </tr>\n",
       "    <tr>\n",
       "      <th>9</th>\n",
       "      <td>10</td>\n",
       "      <td>1</td>\n",
       "      <td>2</td>\n",
       "      <td>Nasser, Mrs. Nicholas (Adele Achem)</td>\n",
       "      <td>female</td>\n",
       "      <td>14</td>\n",
       "      <td>1</td>\n",
       "      <td>0</td>\n",
       "      <td>237736</td>\n",
       "      <td>30.0708</td>\n",
       "      <td>None</td>\n",
       "      <td>C</td>\n",
       "    </tr>\n",
       "  </tbody>\n",
       "</table>\n",
       "</div>"
      ],
      "text/plain": [
       "  PassengerId Survived Pclass  \\\n",
       "0           1        0      3   \n",
       "1           2        1      1   \n",
       "2           3        1      3   \n",
       "3           4        1      1   \n",
       "4           5        0      3   \n",
       "5           6        0      3   \n",
       "6           7        0      1   \n",
       "7           8        0      3   \n",
       "8           9        1      3   \n",
       "9          10        1      2   \n",
       "\n",
       "                                                Name     Sex   Age SibSp  \\\n",
       "0                            Braund, Mr. Owen Harris    male    22     1   \n",
       "1  Cumings, Mrs. John Bradley (Florence Briggs Th...  female    38     1   \n",
       "2                             Heikkinen, Miss. Laina  female    26     0   \n",
       "3       Futrelle, Mrs. Jacques Heath (Lily May Peel)  female    35     1   \n",
       "4                           Allen, Mr. William Henry    male    35     0   \n",
       "5                                   Moran, Mr. James    male  None     0   \n",
       "6                            McCarthy, Mr. Timothy J    male    54     0   \n",
       "7                     Palsson, Master. Gosta Leonard    male     2     3   \n",
       "8  Johnson, Mrs. Oscar W (Elisabeth Vilhelmina Berg)  female    27     0   \n",
       "9                Nasser, Mrs. Nicholas (Adele Achem)  female    14     1   \n",
       "\n",
       "  Parch            Ticket     Fare Cabin Embarked  \n",
       "0     0         A/5 21171     7.25  None        S  \n",
       "1     0          PC 17599  71.2833   C85        C  \n",
       "2     0  STON/O2. 3101282    7.925  None        S  \n",
       "3     0            113803     53.1  C123        S  \n",
       "4     0            373450     8.05  None        S  \n",
       "5     0            330877   8.4583  None        Q  \n",
       "6     0             17463  51.8625   E46        S  \n",
       "7     1            349909   21.075  None        S  \n",
       "8     2            347742  11.1333  None        S  \n",
       "9     0            237736  30.0708  None        C  "
      ]
     },
     "execution_count": 3,
     "metadata": {},
     "output_type": "execute_result"
    }
   ],
   "source": [
    "#Conferindo se o separador e o cabeçalho estáo corretos\n",
    "df.limit(10).toPandas()"
   ]
  },
  {
   "cell_type": "code",
   "execution_count": 4,
   "metadata": {},
   "outputs": [
    {
     "name": "stdout",
     "output_type": "stream",
     "text": [
      "root\n",
      " |-- PassengerId: string (nullable = true)\n",
      " |-- Survived: string (nullable = true)\n",
      " |-- Pclass: string (nullable = true)\n",
      " |-- Name: string (nullable = true)\n",
      " |-- Sex: string (nullable = true)\n",
      " |-- Age: string (nullable = true)\n",
      " |-- SibSp: string (nullable = true)\n",
      " |-- Parch: string (nullable = true)\n",
      " |-- Ticket: string (nullable = true)\n",
      " |-- Fare: string (nullable = true)\n",
      " |-- Cabin: string (nullable = true)\n",
      " |-- Embarked: string (nullable = true)\n",
      "\n"
     ]
    }
   ],
   "source": [
    "#Coletando informações das colunas\n",
    "df.printSchema()"
   ]
  },
  {
   "cell_type": "code",
   "execution_count": 5,
   "metadata": {},
   "outputs": [
    {
     "data": {
      "text/plain": [
       "891"
      ]
     },
     "execution_count": 5,
     "metadata": {},
     "output_type": "execute_result"
    }
   ],
   "source": [
    "#Quantidade de registros\n",
    "df.count()"
   ]
  },
  {
   "cell_type": "code",
   "execution_count": 6,
   "metadata": {},
   "outputs": [
    {
     "data": {
      "text/plain": [
       "12"
      ]
     },
     "execution_count": 6,
     "metadata": {},
     "output_type": "execute_result"
    }
   ],
   "source": [
    "#Quantidade de colunas\n",
    "len(df.columns)"
   ]
  },
  {
   "cell_type": "code",
   "execution_count": 7,
   "metadata": {},
   "outputs": [
    {
     "data": {
      "text/plain": [
       "'DataFrame[PassengerId: string, Survived: string, Pclass: string, Name: string, Sex: string, Age: string, SibSp: string, Parch: string, Ticket: string, Fare: string, Cabin: string, Embarked: string]'"
      ]
     },
     "execution_count": 7,
     "metadata": {},
     "output_type": "execute_result"
    }
   ],
   "source": [
    "#obtendo informações sobre a estrutura dos dados do data frame\n",
    "str(df)"
   ]
  },
  {
   "cell_type": "markdown",
   "metadata": {},
   "source": [
    "### 3. Escolhendo e tratando colunas desejadas"
   ]
  },
  {
   "cell_type": "raw",
   "metadata": {},
   "source": [
    "É essencial escolher as colunas que vai precisar, aqui a base é pequena então até seria tranquilo trabalhar com todas, mas não se pode dizer o mesmo com bases de 40 milhoes de registros.\n",
    "O objetivo dessa análise é (try) descobrir o tipo de pessoa que mais sobreviveu e morreu no naufrago do Titanic.\n",
    "As colunas que podem nos trazer boas informações são: survived, Pclass, sex, age e embarked"
   ]
  },
  {
   "cell_type": "markdown",
   "metadata": {},
   "source": [
    "### 3.1. Selecionando as colunas desejadas e transformando em um novo dataFrame"
   ]
  },
  {
   "cell_type": "code",
   "execution_count": 8,
   "metadata": {},
   "outputs": [],
   "source": [
    "new_df = df.select('Survived', 'Pclass', 'Sex', 'Age', 'Embarked')"
   ]
  },
  {
   "cell_type": "code",
   "execution_count": 9,
   "metadata": {},
   "outputs": [
    {
     "name": "stdout",
     "output_type": "stream",
     "text": [
      "+--------+------+------+---+--------+\n",
      "|Survived|Pclass|   Sex|Age|Embarked|\n",
      "+--------+------+------+---+--------+\n",
      "|       0|     3|  male| 22|       S|\n",
      "|       1|     1|female| 38|       C|\n",
      "|       1|     3|female| 26|       S|\n",
      "+--------+------+------+---+--------+\n",
      "only showing top 3 rows\n",
      "\n"
     ]
    }
   ],
   "source": [
    "new_df.show(3)"
   ]
  },
  {
   "cell_type": "markdown",
   "metadata": {},
   "source": [
    "### 3.2. Renomeando as informações das colunas"
   ]
  },
  {
   "cell_type": "code",
   "execution_count": 10,
   "metadata": {},
   "outputs": [],
   "source": [
    "new_df = new_df.withColumn('Survived', F.when(F.col('Survived') == 0, 'não')\n",
    "                   .when(F.col('Survived') == 1, 'sim'))"
   ]
  },
  {
   "cell_type": "code",
   "execution_count": 11,
   "metadata": {},
   "outputs": [],
   "source": [
    "new_df = new_df.withColumn('Embarked', F.when(F.col('Embarked') == 'S', 'Southampton')\n",
    "                   .when(F.col('Embarked') == 'C', 'Cherbourg')\n",
    "                   .when(F.col('Embarked') == 'Q', 'Queenstown'))"
   ]
  },
  {
   "cell_type": "code",
   "execution_count": 12,
   "metadata": {},
   "outputs": [
    {
     "data": {
      "text/html": [
       "<div>\n",
       "<style scoped>\n",
       "    .dataframe tbody tr th:only-of-type {\n",
       "        vertical-align: middle;\n",
       "    }\n",
       "\n",
       "    .dataframe tbody tr th {\n",
       "        vertical-align: top;\n",
       "    }\n",
       "\n",
       "    .dataframe thead th {\n",
       "        text-align: right;\n",
       "    }\n",
       "</style>\n",
       "<table border=\"1\" class=\"dataframe\">\n",
       "  <thead>\n",
       "    <tr style=\"text-align: right;\">\n",
       "      <th></th>\n",
       "      <th>Survived</th>\n",
       "      <th>Pclass</th>\n",
       "      <th>Sex</th>\n",
       "      <th>Age</th>\n",
       "      <th>Embarked</th>\n",
       "    </tr>\n",
       "  </thead>\n",
       "  <tbody>\n",
       "    <tr>\n",
       "      <th>0</th>\n",
       "      <td>não</td>\n",
       "      <td>3</td>\n",
       "      <td>male</td>\n",
       "      <td>22</td>\n",
       "      <td>Southampton</td>\n",
       "    </tr>\n",
       "    <tr>\n",
       "      <th>1</th>\n",
       "      <td>sim</td>\n",
       "      <td>1</td>\n",
       "      <td>female</td>\n",
       "      <td>38</td>\n",
       "      <td>Cherbourg</td>\n",
       "    </tr>\n",
       "    <tr>\n",
       "      <th>2</th>\n",
       "      <td>sim</td>\n",
       "      <td>3</td>\n",
       "      <td>female</td>\n",
       "      <td>26</td>\n",
       "      <td>Southampton</td>\n",
       "    </tr>\n",
       "    <tr>\n",
       "      <th>3</th>\n",
       "      <td>sim</td>\n",
       "      <td>1</td>\n",
       "      <td>female</td>\n",
       "      <td>35</td>\n",
       "      <td>Southampton</td>\n",
       "    </tr>\n",
       "    <tr>\n",
       "      <th>4</th>\n",
       "      <td>não</td>\n",
       "      <td>3</td>\n",
       "      <td>male</td>\n",
       "      <td>35</td>\n",
       "      <td>Southampton</td>\n",
       "    </tr>\n",
       "  </tbody>\n",
       "</table>\n",
       "</div>"
      ],
      "text/plain": [
       "  Survived Pclass     Sex Age     Embarked\n",
       "0      não      3    male  22  Southampton\n",
       "1      sim      1  female  38    Cherbourg\n",
       "2      sim      3  female  26  Southampton\n",
       "3      sim      1  female  35  Southampton\n",
       "4      não      3    male  35  Southampton"
      ]
     },
     "execution_count": 12,
     "metadata": {},
     "output_type": "execute_result"
    }
   ],
   "source": [
    "new_df.limit(5).toPandas()"
   ]
  },
  {
   "cell_type": "markdown",
   "metadata": {},
   "source": [
    "### 4. Obtendo informações atraves de graficos"
   ]
  },
  {
   "cell_type": "code",
   "execution_count": 14,
   "metadata": {},
   "outputs": [
    {
     "data": {
      "text/plain": [
       "<AxesSubplot:xlabel='Survived'>"
      ]
     },
     "execution_count": 14,
     "metadata": {},
     "output_type": "execute_result"
    },
    {
     "data": {
      "image/png": "[encoded data removed]",
      "text/plain": [
       "<Figure size 1080x360 with 1 Axes>"
      ]
     },
     "metadata": {
      "needs_background": "light"
     },
     "output_type": "display_data"
    }
   ],
   "source": [
    "#Com relação a variável 'survived'\n",
    "sobreviventes = new_df.groupBy('Survived').count().toPandas()\n",
    "sobreviventes.plot(figsize=(15, 5), kind='bar', x='Survived')"
   ]
  },
  {
   "cell_type": "code",
   "execution_count": 15,
   "metadata": {},
   "outputs": [
    {
     "data": {
      "text/plain": [
       "<AxesSubplot:xlabel='Pclass'>"
      ]
     },
     "execution_count": 15,
     "metadata": {},
     "output_type": "execute_result"
    },
    {
     "data": {
      "image/png": "[encoded data removed]",
      "text/plain": [
       "<Figure size 1080x360 with 1 Axes>"
      ]
     },
     "metadata": {
      "needs_background": "light"
     },
     "output_type": "display_data"
    }
   ],
   "source": [
    "#Com relação a variável 'Pclass'\n",
    "classe = new_df.groupBy('Pclass').count().toPandas()\n",
    "classe.plot(figsize=(15, 5), kind='bar', x='Pclass')"
   ]
  },
  {
   "cell_type": "code",
   "execution_count": 16,
   "metadata": {},
   "outputs": [
    {
     "data": {
      "text/plain": [
       "<AxesSubplot:xlabel='Sex'>"
      ]
     },
     "execution_count": 16,
     "metadata": {},
     "output_type": "execute_result"
    },
    {
     "data": {
      "image/png": "[encoded data removed]",
      "text/plain": [
       "<Figure size 1080x360 with 1 Axes>"
      ]
     },
     "metadata": {
      "needs_background": "light"
     },
     "output_type": "display_data"
    }
   ],
   "source": [
    "#Com relação a variável 'Sex'\n",
    "sexo = new_df.groupBy('Sex').count().toPandas()\n",
    "sexo.plot(figsize=(15, 5), kind='bar', x='Sex')"
   ]
  },
  {
   "cell_type": "code",
   "execution_count": 17,
   "metadata": {},
   "outputs": [],
   "source": [
    "#Com relação a variável 'Age'; a transformei em Inteira, pois tinham idades como 20.3, 12.1 e assim por diante.\n",
    "new_df = new_df.withColumn('Age', F.col('Age').cast(IntegerType()))"
   ]
  },
  {
   "cell_type": "code",
   "execution_count": 18,
   "metadata": {},
   "outputs": [
    {
     "data": {
      "text/plain": [
       "<AxesSubplot:xlabel='Age'>"
      ]
     },
     "execution_count": 18,
     "metadata": {},
     "output_type": "execute_result"
    },
    {
     "data": {
      "image/png": "[encoded data removed]",
      "text/plain": [
       "<Figure size 1080x360 with 1 Axes>"
      ]
     },
     "metadata": {
      "needs_background": "light"
     },
     "output_type": "display_data"
    }
   ],
   "source": [
    "idade = new_df.groupBy('Age').count().orderBy('Age').toPandas()\n",
    "idade.plot(figsize=(15, 5), kind='bar', x='Age')"
   ]
  },
  {
   "cell_type": "code",
   "execution_count": 19,
   "metadata": {},
   "outputs": [
    {
     "data": {
      "text/plain": [
       "<AxesSubplot:xlabel='Embarked'>"
      ]
     },
     "execution_count": 19,
     "metadata": {},
     "output_type": "execute_result"
    },
    {
     "data": {
      "image/png": "[encoded data removed]",
      "text/plain": [
       "<Figure size 1080x360 with 1 Axes>"
      ]
     },
     "metadata": {
      "needs_background": "light"
     },
     "output_type": "display_data"
    }
   ],
   "source": [
    "#Com relação a variável 'Embarked'\n",
    "embarcacao = new_df.groupBy('Embarked').count().toPandas()\n",
    "embarcacao.plot(figsize=(15, 5), kind='bar', x='Embarked')"
   ]
  },
  {
   "cell_type": "raw",
   "metadata": {},
   "source": [
    "Através destes graficos podemos notar que a maioria desses passageiros não sobreviveram, que a maioria dos passageiros abordo e presentes nessa base eram da 3ª classe, que a maioria deles eram do sexo masculino, Southampton foi o local de maior embarcação dessas pessoas e por mais que a os nulos tenham maior presença entre a variável idade, existe um grande volume de dados com as idades de 18 aos 36."
   ]
  },
  {
   "cell_type": "markdown",
   "metadata": {},
   "source": [
    "### 5. Juntanto colunas em único gráfico"
   ]
  },
  {
   "cell_type": "raw",
   "metadata": {},
   "source": [
    "- Gráficos de dispersão para comparações mais precisas:\n",
    "1. Dos que faleceram:\n",
    "qual sexo, classe social e onde embarcou\n",
    "1. Dos que sobreviveram:\n",
    "qual sexo, classe social e onde embarcou"
   ]
  },
  {
   "cell_type": "code",
   "execution_count": 20,
   "metadata": {},
   "outputs": [],
   "source": [
    "from pyspark.sql import SQLContext\n",
    "sqlContext = SQLContext(sc)\n",
    "\n",
    "import plotly.graph_objs as go\n",
    "import requests\n",
    "requests.packages.urllib3.disable_warnings()"
   ]
  },
  {
   "cell_type": "code",
   "execution_count": 21,
   "metadata": {},
   "outputs": [
    {
     "data": {
      "text/plain": [
       "<AxesSubplot:xlabel='Survived'>"
      ]
     },
     "execution_count": 21,
     "metadata": {},
     "output_type": "execute_result"
    },
    {
     "data": {
      "image/png": "[encoded data removed]",
      "text/plain": [
       "<Figure size 1080x360 with 1 Axes>"
      ]
     },
     "metadata": {
      "needs_background": "light"
     },
     "output_type": "display_data"
    }
   ],
   "source": [
    "pivotDF = new_df.groupBy(\"Survived\").pivot(\"Sex\").count().toPandas()\n",
    "pivotDF.plot(figsize=(15, 5), kind='bar', x='Survived', rot = 0, #stacked=True, barh \n",
    "                  y=['male', 'female'])"
   ]
  },
  {
   "cell_type": "code",
   "execution_count": 22,
   "metadata": {},
   "outputs": [
    {
     "data": {
      "text/html": [
       "<div>\n",
       "<style scoped>\n",
       "    .dataframe tbody tr th:only-of-type {\n",
       "        vertical-align: middle;\n",
       "    }\n",
       "\n",
       "    .dataframe tbody tr th {\n",
       "        vertical-align: top;\n",
       "    }\n",
       "\n",
       "    .dataframe thead th {\n",
       "        text-align: right;\n",
       "    }\n",
       "</style>\n",
       "<table border=\"1\" class=\"dataframe\">\n",
       "  <thead>\n",
       "    <tr style=\"text-align: right;\">\n",
       "      <th></th>\n",
       "      <th>Survived</th>\n",
       "      <th>female</th>\n",
       "      <th>male</th>\n",
       "    </tr>\n",
       "  </thead>\n",
       "  <tbody>\n",
       "    <tr>\n",
       "      <th>0</th>\n",
       "      <td>sim</td>\n",
       "      <td>233</td>\n",
       "      <td>109</td>\n",
       "    </tr>\n",
       "    <tr>\n",
       "      <th>1</th>\n",
       "      <td>não</td>\n",
       "      <td>81</td>\n",
       "      <td>468</td>\n",
       "    </tr>\n",
       "  </tbody>\n",
       "</table>\n",
       "</div>"
      ],
      "text/plain": [
       "  Survived  female  male\n",
       "0      sim     233   109\n",
       "1      não      81   468"
      ]
     },
     "execution_count": 22,
     "metadata": {},
     "output_type": "execute_result"
    }
   ],
   "source": [
    "pivotDF = new_df.groupBy(\"Survived\").pivot(\"Sex\").count().toPandas()\n",
    "pivotDF"
   ]
  },
  {
   "cell_type": "code",
   "execution_count": 23,
   "metadata": {},
   "outputs": [
    {
     "data": {
      "text/plain": [
       "<AxesSubplot:xlabel='Survived'>"
      ]
     },
     "execution_count": 23,
     "metadata": {},
     "output_type": "execute_result"
    },
    {
     "data": {
      "image/png": "[encoded data removed]",
      "text/plain": [
       "<Figure size 1080x360 with 1 Axes>"
      ]
     },
     "metadata": {
      "needs_background": "light"
     },
     "output_type": "display_data"
    }
   ],
   "source": [
    "pivotDF = new_df.groupBy(\"Survived\").pivot(\"Embarked\").count().toPandas()\n",
    "pivotDF.plot(figsize=(15, 5), kind='bar', x='Survived', rot = 0, #stacked=True, barh \n",
    "                  y=['Southampton', 'Cherbourg', 'Queenstown'])"
   ]
  },
  {
   "cell_type": "code",
   "execution_count": 24,
   "metadata": {},
   "outputs": [
    {
     "data": {
      "text/html": [
       "<div>\n",
       "<style scoped>\n",
       "    .dataframe tbody tr th:only-of-type {\n",
       "        vertical-align: middle;\n",
       "    }\n",
       "\n",
       "    .dataframe tbody tr th {\n",
       "        vertical-align: top;\n",
       "    }\n",
       "\n",
       "    .dataframe thead th {\n",
       "        text-align: right;\n",
       "    }\n",
       "</style>\n",
       "<table border=\"1\" class=\"dataframe\">\n",
       "  <thead>\n",
       "    <tr style=\"text-align: right;\">\n",
       "      <th></th>\n",
       "      <th>Survived</th>\n",
       "      <th>null</th>\n",
       "      <th>Cherbourg</th>\n",
       "      <th>Queenstown</th>\n",
       "      <th>Southampton</th>\n",
       "    </tr>\n",
       "  </thead>\n",
       "  <tbody>\n",
       "    <tr>\n",
       "      <th>0</th>\n",
       "      <td>sim</td>\n",
       "      <td>2.0</td>\n",
       "      <td>93</td>\n",
       "      <td>30</td>\n",
       "      <td>217</td>\n",
       "    </tr>\n",
       "    <tr>\n",
       "      <th>1</th>\n",
       "      <td>não</td>\n",
       "      <td>NaN</td>\n",
       "      <td>75</td>\n",
       "      <td>47</td>\n",
       "      <td>427</td>\n",
       "    </tr>\n",
       "  </tbody>\n",
       "</table>\n",
       "</div>"
      ],
      "text/plain": [
       "  Survived  null  Cherbourg  Queenstown  Southampton\n",
       "0      sim   2.0         93          30          217\n",
       "1      não   NaN         75          47          427"
      ]
     },
     "execution_count": 24,
     "metadata": {},
     "output_type": "execute_result"
    }
   ],
   "source": [
    "pivotDF = new_df.groupBy(\"Survived\").pivot(\"Embarked\").count().toPandas()\n",
    "pivotDF"
   ]
  },
  {
   "cell_type": "code",
   "execution_count": 25,
   "metadata": {},
   "outputs": [
    {
     "name": "stdout",
     "output_type": "stream",
     "text": [
      "+-----------+-----+\n",
      "|   Embarked|count|\n",
      "+-----------+-----+\n",
      "|       null|    2|\n",
      "| Queenstown|   77|\n",
      "|Southampton|  644|\n",
      "|  Cherbourg|  168|\n",
      "+-----------+-----+\n",
      "\n"
     ]
    }
   ],
   "source": [
    "#Conferindo as numerações\n",
    "new_df.groupBy('Embarked').count().show()"
   ]
  },
  {
   "cell_type": "code",
   "execution_count": 26,
   "metadata": {},
   "outputs": [
    {
     "name": "stdout",
     "output_type": "stream",
     "text": [
      "+-----------+--------+------+--------------------+------+---+-----+-----+------+----+-----+--------+\n",
      "|PassengerId|Survived|Pclass|                Name|   Sex|Age|SibSp|Parch|Ticket|Fare|Cabin|Embarked|\n",
      "+-----------+--------+------+--------------------+------+---+-----+-----+------+----+-----+--------+\n",
      "|         62|       1|     1| Icard, Miss. Amelie|female| 38|    0|    0|113572|  80|  B28|    null|\n",
      "|        830|       1|     1|Stone, Mrs. Georg...|female| 62|    0|    0|113572|  80|  B28|    null|\n",
      "+-----------+--------+------+--------------------+------+---+-----+-----+------+----+-----+--------+\n",
      "\n"
     ]
    }
   ],
   "source": [
    "df.filter(df.Embarked.isNull()).show()"
   ]
  },
  {
   "cell_type": "raw",
   "metadata": {},
   "source": [
    "Podemos notar que a maioria dos que embarcaram em Queenstown faleceram, assim como em Southampton. Existe também duas pessoas com informações faltantes na coluna de embarcação, mas que sobreviveu."
   ]
  },
  {
   "cell_type": "code",
   "execution_count": 27,
   "metadata": {},
   "outputs": [
    {
     "data": {
      "text/plain": [
       "<AxesSubplot:xlabel='Survived'>"
      ]
     },
     "execution_count": 27,
     "metadata": {},
     "output_type": "execute_result"
    },
    {
     "data": {
      "image/png": "[encoded data removed]",
      "text/plain": [
       "<Figure size 1080x360 with 1 Axes>"
      ]
     },
     "metadata": {
      "needs_background": "light"
     },
     "output_type": "display_data"
    }
   ],
   "source": [
    "pivotDF = new_df.groupBy(\"Survived\").pivot(\"Pclass\").count().toPandas()\n",
    "pivotDF.plot(figsize=(15, 5), kind='bar', x='Survived', rot = 0, #stacked=True, barh \n",
    "                  y=['1', '2', '3'])"
   ]
  },
  {
   "cell_type": "code",
   "execution_count": 28,
   "metadata": {},
   "outputs": [
    {
     "data": {
      "text/html": [
       "<div>\n",
       "<style scoped>\n",
       "    .dataframe tbody tr th:only-of-type {\n",
       "        vertical-align: middle;\n",
       "    }\n",
       "\n",
       "    .dataframe tbody tr th {\n",
       "        vertical-align: top;\n",
       "    }\n",
       "\n",
       "    .dataframe thead th {\n",
       "        text-align: right;\n",
       "    }\n",
       "</style>\n",
       "<table border=\"1\" class=\"dataframe\">\n",
       "  <thead>\n",
       "    <tr style=\"text-align: right;\">\n",
       "      <th></th>\n",
       "      <th>Survived</th>\n",
       "      <th>1</th>\n",
       "      <th>2</th>\n",
       "      <th>3</th>\n",
       "    </tr>\n",
       "  </thead>\n",
       "  <tbody>\n",
       "    <tr>\n",
       "      <th>0</th>\n",
       "      <td>sim</td>\n",
       "      <td>136</td>\n",
       "      <td>87</td>\n",
       "      <td>119</td>\n",
       "    </tr>\n",
       "    <tr>\n",
       "      <th>1</th>\n",
       "      <td>não</td>\n",
       "      <td>80</td>\n",
       "      <td>97</td>\n",
       "      <td>372</td>\n",
       "    </tr>\n",
       "  </tbody>\n",
       "</table>\n",
       "</div>"
      ],
      "text/plain": [
       "  Survived    1   2    3\n",
       "0      sim  136  87  119\n",
       "1      não   80  97  372"
      ]
     },
     "execution_count": 28,
     "metadata": {},
     "output_type": "execute_result"
    }
   ],
   "source": [
    "pivotDF = new_df.groupBy(\"Survived\").pivot(\"Pclass\").count().toPandas()\n",
    "pivotDF"
   ]
  },
  {
   "cell_type": "raw",
   "metadata": {},
   "source": [
    "Nota-se com clareza que a maioria dos que eram primeira classe sobreviveram, diferente dos que eram segunda e terceira classe."
   ]
  },
  {
   "cell_type": "markdown",
   "metadata": {},
   "source": [
    "### 6. Spark para Manipulação de Strings:"
   ]
  },
  {
   "cell_type": "code",
   "execution_count": 29,
   "metadata": {},
   "outputs": [],
   "source": [
    "import re"
   ]
  },
  {
   "cell_type": "code",
   "execution_count": 30,
   "metadata": {},
   "outputs": [],
   "source": [
    "df_regex = df.select('Name', 'PassengerId')"
   ]
  },
  {
   "cell_type": "code",
   "execution_count": 32,
   "metadata": {},
   "outputs": [
    {
     "name": "stdout",
     "output_type": "stream",
     "text": [
      "+------------------------------------------------------+-----+\n",
      "|Name                                                  |count|\n",
      "+------------------------------------------------------+-----+\n",
      "|\"Watt, Mrs. James (Elizabeth \"\"Bessie\"\" Inglis Milne)\"|1    |\n",
      "|Young, Miss. Marie Grice                              |1    |\n",
      "|Parr, Mr. William Henry Marsh                         |1    |\n",
      "|Soholt, Mr. Peter Andreas Lauritz Andersen            |1    |\n",
      "|Goldsmith, Mrs. Frank John (Emily Alice Brown)        |1    |\n",
      "|Dimic, Mr. Jovan                                      |1    |\n",
      "|Harper, Mr. Henry Sleeper                             |1    |\n",
      "|Reuchlin, Jonkheer. John George                       |1    |\n",
      "|Fahlstrom, Mr. Arne Jonas                             |1    |\n",
      "|Hosono, Mr. Masabumi                                  |1    |\n",
      "|Partner, Mr. Austen                                   |1    |\n",
      "|Van Impe, Miss. Catharina                             |1    |\n",
      "|Bjornstrom-Steffansson, Mr. Mauritz Hakan             |1    |\n",
      "|Saad, Mr. Khalil                                      |1    |\n",
      "|Sirota, Mr. Maurice                                   |1    |\n",
      "|Slemen, Mr. Richard James                             |1    |\n",
      "|McCormack, Mr. Thomas Joseph                          |1    |\n",
      "|Potter, Mrs. Thomas Jr (Lily Alexenia Wilson)         |1    |\n",
      "|Palsson, Miss. Stina Viola                            |1    |\n",
      "|\"Nakid, Miss. Maria (\"\"Mary\"\")\"                       |1    |\n",
      "|Goodwin, Master. Harold Victor                        |1    |\n",
      "|Sharp, Mr. Percival James R                           |1    |\n",
      "|Lam, Mr. Ali                                          |1    |\n",
      "|Endres, Miss. Caroline Louise                         |1    |\n",
      "|Pettersson, Miss. Ellen Natalia                       |1    |\n",
      "|Barbara, Miss. Saiide                                 |1    |\n",
      "|Slocovski, Mr. Selman Francis                         |1    |\n",
      "|\"Carr, Miss. Helen \"\"Ellen\"\"\"                         |1    |\n",
      "|Tornquist, Mr. William Henry                          |1    |\n",
      "|Olsson, Mr. Nils Johan Goransson                      |1    |\n",
      "+------------------------------------------------------+-----+\n",
      "only showing top 30 rows\n",
      "\n"
     ]
    }
   ],
   "source": [
    "#Observando o conteúdo da variável/coluna através de 30 passageiros\n",
    "df_regex.groupBy('Name').count().show(30, False)"
   ]
  },
  {
   "cell_type": "raw",
   "metadata": {},
   "source": [
    "Obs: Utilizarei _ para substituir os caracteres especiais ao qual desejamos 'limpar' para ficar clara a diferença."
   ]
  },
  {
   "cell_type": "code",
   "execution_count": 33,
   "metadata": {},
   "outputs": [
    {
     "name": "stdout",
     "output_type": "stream",
     "text": [
      "+---------------------------------------------------------+-----------+---------------------------------------------------------+\n",
      "|Name                                                     |PassengerId|Novo_nome                                                |\n",
      "+---------------------------------------------------------+-----------+---------------------------------------------------------+\n",
      "|Braund, Mr. Owen Harris                                  |1          |Braund, Mr. Owen Harris                                  |\n",
      "|Cumings, Mrs. John Bradley (Florence Briggs Thayer)      |2          |Cumings, Mrs. John Bradley (Florence Briggs Thayer)      |\n",
      "|Heikkinen, Miss. Laina                                   |3          |Heikkinen, Miss. Laina                                   |\n",
      "|Futrelle, Mrs. Jacques Heath (Lily May Peel)             |4          |Futrelle, Mrs. Jacques Heath (Lily May Peel)             |\n",
      "|Allen, Mr. William Henry                                 |5          |Allen, Mr. William Henry                                 |\n",
      "|Moran, Mr. James                                         |6          |Moran, Mr. James                                         |\n",
      "|McCarthy, Mr. Timothy J                                  |7          |McCarthy, Mr. Timothy J                                  |\n",
      "|Palsson, Master. Gosta Leonard                           |8          |Palsson, Master. Gosta Leonard                           |\n",
      "|Johnson, Mrs. Oscar W (Elisabeth Vilhelmina Berg)        |9          |Johnson, Mrs. Oscar W (Elisabeth Vilhelmina Berg)        |\n",
      "|Nasser, Mrs. Nicholas (Adele Achem)                      |10         |Nasser, Mrs. Nicholas (Adele Achem)                      |\n",
      "|Sandstrom, Miss. Marguerite Rut                          |11         |Sandstrom, Miss. Marguerite Rut                          |\n",
      "|Bonnell, Miss. Elizabeth                                 |12         |Bonnell, Miss. Elizabeth                                 |\n",
      "|Saundercock, Mr. William Henry                           |13         |Saundercock, Mr. William Henry                           |\n",
      "|Andersson, Mr. Anders Johan                              |14         |Andersson, Mr. Anders Johan                              |\n",
      "|Vestrom, Miss. Hulda Amanda Adolfina                     |15         |Vestrom, Miss. Hulda Amanda Adolfina                     |\n",
      "|Hewlett, Mrs. (Mary D Kingcome)                          |16         |Hewlett, Mrs. (Mary D Kingcome)                          |\n",
      "|Rice, Master. Eugene                                     |17         |Rice, Master. Eugene                                     |\n",
      "|Williams, Mr. Charles Eugene                             |18         |Williams, Mr. Charles Eugene                             |\n",
      "|Vander Planke, Mrs. Julius (Emelia Maria Vandemoortele)  |19         |Vander Planke, Mrs. Julius (Emelia Maria Vandemoortele)  |\n",
      "|Masselmani, Mrs. Fatima                                  |20         |Masselmani, Mrs. Fatima                                  |\n",
      "|Fynney, Mr. Joseph J                                     |21         |Fynney, Mr. Joseph J                                     |\n",
      "|Beesley, Mr. Lawrence                                    |22         |Beesley, Mr. Lawrence                                    |\n",
      "|\"McGowan, Miss. Anna \"\"Annie\"\"\"                          |23         |\"McGowan, Miss. Anna _Annie_                             |\n",
      "|Sloper, Mr. William Thompson                             |24         |Sloper, Mr. William Thompson                             |\n",
      "|Palsson, Miss. Torborg Danira                            |25         |Palsson, Miss. Torborg Danira                            |\n",
      "|Asplund, Mrs. Carl Oscar (Selma Augusta Emilia Johansson)|26         |Asplund, Mrs. Carl Oscar (Selma Augusta Emilia Johansson)|\n",
      "|Emir, Mr. Farred Chehab                                  |27         |Emir, Mr. Farred Chehab                                  |\n",
      "|Fortune, Mr. Charles Alexander                           |28         |Fortune, Mr. Charles Alexander                           |\n",
      "|\"O'Dwyer, Miss. Ellen \"\"Nellie\"\"\"                        |29         |\"O'Dwyer, Miss. Ellen _Nellie_                           |\n",
      "|Todoroff, Mr. Lalio                                      |30         |Todoroff, Mr. Lalio                                      |\n",
      "+---------------------------------------------------------+-----------+---------------------------------------------------------+\n",
      "only showing top 30 rows\n",
      "\n"
     ]
    }
   ],
   "source": [
    "#removendo \"\"\n",
    "df_regex.withColumn('Novo_nome', F.regexp_replace('Name', '\"\"+', '_')).show(30, False)"
   ]
  },
  {
   "cell_type": "code",
   "execution_count": 34,
   "metadata": {},
   "outputs": [
    {
     "name": "stdout",
     "output_type": "stream",
     "text": [
      "+---------------------------------------------------------+-----------+---------------------------------------------------------+\n",
      "|Name                                                     |PassengerId|Novo_nome                                                |\n",
      "+---------------------------------------------------------+-----------+---------------------------------------------------------+\n",
      "|Braund, Mr. Owen Harris                                  |1          |Braund, Mr. Owen Harris                                  |\n",
      "|Cumings, Mrs. John Bradley (Florence Briggs Thayer)      |2          |Cumings, Mrs. John Bradley (Florence Briggs Thayer)      |\n",
      "|Heikkinen, Miss. Laina                                   |3          |Heikkinen, Miss. Laina                                   |\n",
      "|Futrelle, Mrs. Jacques Heath (Lily May Peel)             |4          |Futrelle, Mrs. Jacques Heath (Lily May Peel)             |\n",
      "|Allen, Mr. William Henry                                 |5          |Allen, Mr. William Henry                                 |\n",
      "|Moran, Mr. James                                         |6          |Moran, Mr. James                                         |\n",
      "|McCarthy, Mr. Timothy J                                  |7          |McCarthy, Mr. Timothy J                                  |\n",
      "|Palsson, Master. Gosta Leonard                           |8          |Palsson, Master. Gosta Leonard                           |\n",
      "|Johnson, Mrs. Oscar W (Elisabeth Vilhelmina Berg)        |9          |Johnson, Mrs. Oscar W (Elisabeth Vilhelmina Berg)        |\n",
      "|Nasser, Mrs. Nicholas (Adele Achem)                      |10         |Nasser, Mrs. Nicholas (Adele Achem)                      |\n",
      "|Sandstrom, Miss. Marguerite Rut                          |11         |Sandstrom, Miss. Marguerite Rut                          |\n",
      "|Bonnell, Miss. Elizabeth                                 |12         |Bonnell, Miss. Elizabeth                                 |\n",
      "|Saundercock, Mr. William Henry                           |13         |Saundercock, Mr. William Henry                           |\n",
      "|Andersson, Mr. Anders Johan                              |14         |Andersson, Mr. Anders Johan                              |\n",
      "|Vestrom, Miss. Hulda Amanda Adolfina                     |15         |Vestrom, Miss. Hulda Amanda Adolfina                     |\n",
      "|Hewlett, Mrs. (Mary D Kingcome)                          |16         |Hewlett, Mrs. (Mary D Kingcome)                          |\n",
      "|Rice, Master. Eugene                                     |17         |Rice, Master. Eugene                                     |\n",
      "|Williams, Mr. Charles Eugene                             |18         |Williams, Mr. Charles Eugene                             |\n",
      "|Vander Planke, Mrs. Julius (Emelia Maria Vandemoortele)  |19         |Vander Planke, Mrs. Julius (Emelia Maria Vandemoortele)  |\n",
      "|Masselmani, Mrs. Fatima                                  |20         |Masselmani, Mrs. Fatima                                  |\n",
      "|Fynney, Mr. Joseph J                                     |21         |Fynney, Mr. Joseph J                                     |\n",
      "|Beesley, Mr. Lawrence                                    |22         |Beesley, Mr. Lawrence                                    |\n",
      "|\"McGowan, Miss. Anna \"\"Annie\"\"\"                          |23         |_McGowan, Miss. Anna \"\"Annie\"\"\"                          |\n",
      "|Sloper, Mr. William Thompson                             |24         |Sloper, Mr. William Thompson                             |\n",
      "|Palsson, Miss. Torborg Danira                            |25         |Palsson, Miss. Torborg Danira                            |\n",
      "|Asplund, Mrs. Carl Oscar (Selma Augusta Emilia Johansson)|26         |Asplund, Mrs. Carl Oscar (Selma Augusta Emilia Johansson)|\n",
      "|Emir, Mr. Farred Chehab                                  |27         |Emir, Mr. Farred Chehab                                  |\n",
      "|Fortune, Mr. Charles Alexander                           |28         |Fortune, Mr. Charles Alexander                           |\n",
      "|\"O'Dwyer, Miss. Ellen \"\"Nellie\"\"\"                        |29         |_O'Dwyer, Miss. Ellen \"\"Nellie\"\"\"                        |\n",
      "|Todoroff, Mr. Lalio                                      |30         |Todoroff, Mr. Lalio                                      |\n",
      "+---------------------------------------------------------+-----------+---------------------------------------------------------+\n",
      "only showing top 30 rows\n",
      "\n"
     ]
    }
   ],
   "source": [
    "#removendo \"\" iniciais do nome\n",
    "df_regex.withColumn('Novo_nome', F.regexp_replace('Name', '^\"', '_')).show(30, False)"
   ]
  },
  {
   "cell_type": "code",
   "execution_count": 35,
   "metadata": {
    "scrolled": true
   },
   "outputs": [
    {
     "name": "stdout",
     "output_type": "stream",
     "text": [
      "+---------------------------------------------------------+-----------+------------------------------------+\n",
      "|Name                                                     |PassengerId|Novo_nome                           |\n",
      "+---------------------------------------------------------+-----------+------------------------------------+\n",
      "|Braund, Mr. Owen Harris                                  |1          |Braund, Mr. Owen Harris             |\n",
      "|Cumings, Mrs. John Bradley (Florence Briggs Thayer)      |2          |Cumings, Mrs. John Bradley __       |\n",
      "|Heikkinen, Miss. Laina                                   |3          |Heikkinen, Miss. Laina              |\n",
      "|Futrelle, Mrs. Jacques Heath (Lily May Peel)             |4          |Futrelle, Mrs. Jacques Heath __     |\n",
      "|Allen, Mr. William Henry                                 |5          |Allen, Mr. William Henry            |\n",
      "|Moran, Mr. James                                         |6          |Moran, Mr. James                    |\n",
      "|McCarthy, Mr. Timothy J                                  |7          |McCarthy, Mr. Timothy J             |\n",
      "|Palsson, Master. Gosta Leonard                           |8          |Palsson, Master. Gosta Leonard      |\n",
      "|Johnson, Mrs. Oscar W (Elisabeth Vilhelmina Berg)        |9          |Johnson, Mrs. Oscar W __            |\n",
      "|Nasser, Mrs. Nicholas (Adele Achem)                      |10         |Nasser, Mrs. Nicholas __            |\n",
      "|Sandstrom, Miss. Marguerite Rut                          |11         |Sandstrom, Miss. Marguerite Rut     |\n",
      "|Bonnell, Miss. Elizabeth                                 |12         |Bonnell, Miss. Elizabeth            |\n",
      "|Saundercock, Mr. William Henry                           |13         |Saundercock, Mr. William Henry      |\n",
      "|Andersson, Mr. Anders Johan                              |14         |Andersson, Mr. Anders Johan         |\n",
      "|Vestrom, Miss. Hulda Amanda Adolfina                     |15         |Vestrom, Miss. Hulda Amanda Adolfina|\n",
      "|Hewlett, Mrs. (Mary D Kingcome)                          |16         |Hewlett, Mrs. __                    |\n",
      "|Rice, Master. Eugene                                     |17         |Rice, Master. Eugene                |\n",
      "|Williams, Mr. Charles Eugene                             |18         |Williams, Mr. Charles Eugene        |\n",
      "|Vander Planke, Mrs. Julius (Emelia Maria Vandemoortele)  |19         |Vander Planke, Mrs. Julius __       |\n",
      "|Masselmani, Mrs. Fatima                                  |20         |Masselmani, Mrs. Fatima             |\n",
      "|Fynney, Mr. Joseph J                                     |21         |Fynney, Mr. Joseph J                |\n",
      "|Beesley, Mr. Lawrence                                    |22         |Beesley, Mr. Lawrence               |\n",
      "|\"McGowan, Miss. Anna \"\"Annie\"\"\"                          |23         |\"McGowan, Miss. Anna \"\"Annie\"\"\"     |\n",
      "|Sloper, Mr. William Thompson                             |24         |Sloper, Mr. William Thompson        |\n",
      "|Palsson, Miss. Torborg Danira                            |25         |Palsson, Miss. Torborg Danira       |\n",
      "|Asplund, Mrs. Carl Oscar (Selma Augusta Emilia Johansson)|26         |Asplund, Mrs. Carl Oscar __         |\n",
      "|Emir, Mr. Farred Chehab                                  |27         |Emir, Mr. Farred Chehab             |\n",
      "|Fortune, Mr. Charles Alexander                           |28         |Fortune, Mr. Charles Alexander      |\n",
      "|\"O'Dwyer, Miss. Ellen \"\"Nellie\"\"\"                        |29         |\"O'Dwyer, Miss. Ellen \"\"Nellie\"\"\"   |\n",
      "|Todoroff, Mr. Lalio                                      |30         |Todoroff, Mr. Lalio                 |\n",
      "+---------------------------------------------------------+-----------+------------------------------------+\n",
      "only showing top 30 rows\n",
      "\n"
     ]
    }
   ],
   "source": [
    "#removendo todo o conteudo dos parenteses\n",
    "df_regex.withColumn('Novo_nome', F.regexp_replace('Name', '\\([^\\)]+|\\)', '_')).show(30, False)"
   ]
  },
  {
   "cell_type": "code",
   "execution_count": 37,
   "metadata": {},
   "outputs": [
    {
     "name": "stdout",
     "output_type": "stream",
     "text": [
      "+---------------------------------------------------------+-----------+------------------------------------+\n",
      "|Name                                                     |PassengerId|Novo_nome                           |\n",
      "+---------------------------------------------------------+-----------+------------------------------------+\n",
      "|Braund, Mr. Owen Harris                                  |1          |Braund, Mr. Owen Harris             |\n",
      "|Cumings, Mrs. John Bradley (Florence Briggs Thayer)      |2          |Cumings, Mrs. John Bradley          |\n",
      "|Heikkinen, Miss. Laina                                   |3          |Heikkinen, Miss. Laina              |\n",
      "|Futrelle, Mrs. Jacques Heath (Lily May Peel)             |4          |Futrelle, Mrs. Jacques Heath        |\n",
      "|Allen, Mr. William Henry                                 |5          |Allen, Mr. William Henry            |\n",
      "|Moran, Mr. James                                         |6          |Moran, Mr. James                    |\n",
      "|McCarthy, Mr. Timothy J                                  |7          |McCarthy, Mr. Timothy J             |\n",
      "|Palsson, Master. Gosta Leonard                           |8          |Palsson, Master. Gosta Leonard      |\n",
      "|Johnson, Mrs. Oscar W (Elisabeth Vilhelmina Berg)        |9          |Johnson, Mrs. Oscar W               |\n",
      "|Nasser, Mrs. Nicholas (Adele Achem)                      |10         |Nasser, Mrs. Nicholas               |\n",
      "|Sandstrom, Miss. Marguerite Rut                          |11         |Sandstrom, Miss. Marguerite Rut     |\n",
      "|Bonnell, Miss. Elizabeth                                 |12         |Bonnell, Miss. Elizabeth            |\n",
      "|Saundercock, Mr. William Henry                           |13         |Saundercock, Mr. William Henry      |\n",
      "|Andersson, Mr. Anders Johan                              |14         |Andersson, Mr. Anders Johan         |\n",
      "|Vestrom, Miss. Hulda Amanda Adolfina                     |15         |Vestrom, Miss. Hulda Amanda Adolfina|\n",
      "|Hewlett, Mrs. (Mary D Kingcome)                          |16         |Hewlett, Mrs.                       |\n",
      "|Rice, Master. Eugene                                     |17         |Rice, Master. Eugene                |\n",
      "|Williams, Mr. Charles Eugene                             |18         |Williams, Mr. Charles Eugene        |\n",
      "|Vander Planke, Mrs. Julius (Emelia Maria Vandemoortele)  |19         |Vander Planke, Mrs. Julius          |\n",
      "|Masselmani, Mrs. Fatima                                  |20         |Masselmani, Mrs. Fatima             |\n",
      "|Fynney, Mr. Joseph J                                     |21         |Fynney, Mr. Joseph J                |\n",
      "|Beesley, Mr. Lawrence                                    |22         |Beesley, Mr. Lawrence               |\n",
      "|\"McGowan, Miss. Anna \"\"Annie\"\"\"                          |23         | McGowan, Miss. Anna  Annie         |\n",
      "|Sloper, Mr. William Thompson                             |24         |Sloper, Mr. William Thompson        |\n",
      "|Palsson, Miss. Torborg Danira                            |25         |Palsson, Miss. Torborg Danira       |\n",
      "|Asplund, Mrs. Carl Oscar (Selma Augusta Emilia Johansson)|26         |Asplund, Mrs. Carl Oscar            |\n",
      "|Emir, Mr. Farred Chehab                                  |27         |Emir, Mr. Farred Chehab             |\n",
      "|Fortune, Mr. Charles Alexander                           |28         |Fortune, Mr. Charles Alexander      |\n",
      "|\"O'Dwyer, Miss. Ellen \"\"Nellie\"\"\"                        |29         | O'Dwyer, Miss. Ellen  Nellie       |\n",
      "|Todoroff, Mr. Lalio                                      |30         |Todoroff, Mr. Lalio                 |\n",
      "+---------------------------------------------------------+-----------+------------------------------------+\n",
      "only showing top 30 rows\n",
      "\n"
     ]
    }
   ],
   "source": [
    "#Deletando todas as expressões de uma vez e substituindo por espaço\n",
    "lista_expressoes = ('^\"', '\"\"+', '\\([^\\)]+|\\)')\n",
    "\n",
    "df_regex.withColumn('Novo_nome', F.regexp_replace('Name', '|'.join(lista_expressoes), ' ')).show(30, False)"
   ]
  },
  {
   "cell_type": "markdown",
   "metadata": {},
   "source": [
    "### 7. Dicionário\n",
    "\n",
    "- https://sigmoidal.ai/data-science-titanic-python-1/"
   ]
  },
  {
   "cell_type": "markdown",
   "metadata": {},
   "source": [
    "### 8. Fontes\n",
    "\n",
    "- Refazendo análise da base que analisei na pasta referente ao Pandas;\n",
    "\n",
    "    1. https://datamarte.com/desafio-titanic/#:~:text=Dicion%C3%A1rio%20dos%20dados,-Essa%20%C3%A9%20uma&text=pclass%20(Classe%20de%20ingresso%2C%201,Age%20(Idade)\n",
    "    2. https://sigmoidal.ai/data-science-titanic-python-1/\n",
    "    3. https://medium.com/marciojesus/investigando-o-naufr%C3%A1gio-do-titanic-b478c7750d31\n",
    "    4. https://github.com/stacktecnologias/stack-repo/blob/master/Pandas_Live.ipynb\n",
    "    5. https://datapeaker.com/pt/big--data/pyspark-fun%C3%A7%C3%B5es-9-fun%C3%A7%C3%B5es-mais-%C3%BAteis-para-pyspark-dataframe/ \n",
    "    6. https://rstudio-pubs-static.s3.amazonaws.com/48099_9f2a7ab501114ecaa49749eea8ba4881.html\n",
    "    7. https://medium.com/horadecodar/gr%C3%A1ficos-de-barra-com-matplotlib-85628bfc4351\n",
    "    8. https://stackoverflow.com/questions/53019588/function-object-has-no-attribute-plot\n",
    "    9. https://www.ti-enxame.com/pt/python/matplotlib-plota-varias-colunas-do-quadro-de-dados-pandas-no-grafico-de-barras/829855323/"
   ]
  }
 ],
 "metadata": {
  "kernelspec": {
   "display_name": "Python 3",
   "language": "python",
   "name": "python3"
  },
  "language_info": {
   "codemirror_mode": {
    "name": "ipython",
    "version": 3
   },
   "file_extension": ".py",
   "mimetype": "text/x-python",
   "name": "python",
   "nbconvert_exporter": "python",
   "pygments_lexer": "ipython3",
   "version": "3.7.4"
  }
 },
 "nbformat": 4,
 "nbformat_minor": 2
}
