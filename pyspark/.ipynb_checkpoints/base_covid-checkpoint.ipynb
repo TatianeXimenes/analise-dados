{
 "cells": [
  {
   "cell_type": "markdown",
   "metadata": {},
   "source": [
    "# Análise de dados"
   ]
  },
  {
   "cell_type": "markdown",
   "metadata": {},
   "source": [
    "### Estrutura do noteebok:"
   ]
  },
  {
   "cell_type": "markdown",
   "metadata": {},
   "source": [
    "[1. Importação das bibliotecas](#1.-Importa%C3%A7%C3%A3o-da-biblioteca)<br>\n",
    "[2. Informações da base](#2.-Informa%C3%A7%C3%B5es-da-base)<br>\n",
    "[3. Escolhendo e tratando colunas desejadas](#3.-Escolhendo-e-tratando-colunas-desejadas)"
   ]
  },
  {
   "cell_type": "markdown",
   "metadata": {},
   "source": [
    "### 1. Importação da biblioteca "
   ]
  },
  {
   "cell_type": "code",
   "execution_count": 1,
   "metadata": {},
   "outputs": [],
   "source": [
    "import pandas as pd\n",
    "import pyspark.sql.functions as F\n",
    "from pyspark.sql.types import *\n",
    "from pyspark.sql import Window"
   ]
  },
  {
   "cell_type": "markdown",
   "metadata": {},
   "source": [
    "### 2. Informações da base"
   ]
  },
  {
   "cell_type": "code",
   "execution_count": 2,
   "metadata": {},
   "outputs": [],
   "source": [
    "df = spark.read.csv('/home/tatiane/Documentos/analise-dados/pandas/cases-brazil-cities-time.csv', sep = ',', header = True)"
   ]
  },
  {
   "cell_type": "code",
   "execution_count": 3,
   "metadata": {},
   "outputs": [
    {
     "data": {
      "text/html": [
       "<div>\n",
       "<style scoped>\n",
       "    .dataframe tbody tr th:only-of-type {\n",
       "        vertical-align: middle;\n",
       "    }\n",
       "\n",
       "    .dataframe tbody tr th {\n",
       "        vertical-align: top;\n",
       "    }\n",
       "\n",
       "    .dataframe thead th {\n",
       "        text-align: right;\n",
       "    }\n",
       "</style>\n",
       "<table border=\"1\" class=\"dataframe\">\n",
       "  <thead>\n",
       "    <tr style=\"text-align: right;\">\n",
       "      <th></th>\n",
       "      <th>index</th>\n",
       "      <th>epi_week</th>\n",
       "      <th>date</th>\n",
       "      <th>country</th>\n",
       "      <th>state</th>\n",
       "      <th>city</th>\n",
       "      <th>ibgeID</th>\n",
       "      <th>newDeaths</th>\n",
       "      <th>deaths</th>\n",
       "      <th>newCases</th>\n",
       "      <th>totalCases</th>\n",
       "      <th>deaths_per_100k_inhabitants</th>\n",
       "      <th>totalCases_per_100k_inhabitants</th>\n",
       "      <th>deaths_by_totalCases</th>\n",
       "      <th>_source</th>\n",
       "      <th>last_info_date</th>\n",
       "    </tr>\n",
       "  </thead>\n",
       "  <tbody>\n",
       "    <tr>\n",
       "      <th>0</th>\n",
       "      <td>0</td>\n",
       "      <td>9</td>\n",
       "      <td>2020-02-25</td>\n",
       "      <td>Brazil</td>\n",
       "      <td>SP</td>\n",
       "      <td>São Paulo/SP</td>\n",
       "      <td>3550308</td>\n",
       "      <td>0</td>\n",
       "      <td>0</td>\n",
       "      <td>1</td>\n",
       "      <td>1</td>\n",
       "      <td>0.0</td>\n",
       "      <td>0.008</td>\n",
       "      <td>0.0</td>\n",
       "      <td>SES</td>\n",
       "      <td>2021-12-06</td>\n",
       "    </tr>\n",
       "    <tr>\n",
       "      <th>1</th>\n",
       "      <td>1</td>\n",
       "      <td>9</td>\n",
       "      <td>2020-02-25</td>\n",
       "      <td>Brazil</td>\n",
       "      <td>TOTAL</td>\n",
       "      <td>TOTAL</td>\n",
       "      <td>0</td>\n",
       "      <td>0</td>\n",
       "      <td>0</td>\n",
       "      <td>1</td>\n",
       "      <td>1</td>\n",
       "      <td>0.0</td>\n",
       "      <td>0.0</td>\n",
       "      <td>0.0</td>\n",
       "      <td>None</td>\n",
       "      <td>None</td>\n",
       "    </tr>\n",
       "    <tr>\n",
       "      <th>2</th>\n",
       "      <td>2</td>\n",
       "      <td>9</td>\n",
       "      <td>2020-02-28</td>\n",
       "      <td>Brazil</td>\n",
       "      <td>SP</td>\n",
       "      <td>São Paulo/SP</td>\n",
       "      <td>3550308</td>\n",
       "      <td>0</td>\n",
       "      <td>0</td>\n",
       "      <td>1</td>\n",
       "      <td>2</td>\n",
       "      <td>0.0</td>\n",
       "      <td>0.016</td>\n",
       "      <td>0.0</td>\n",
       "      <td>SES</td>\n",
       "      <td>2021-12-06</td>\n",
       "    </tr>\n",
       "    <tr>\n",
       "      <th>3</th>\n",
       "      <td>3</td>\n",
       "      <td>9</td>\n",
       "      <td>2020-02-28</td>\n",
       "      <td>Brazil</td>\n",
       "      <td>TOTAL</td>\n",
       "      <td>TOTAL</td>\n",
       "      <td>0</td>\n",
       "      <td>0</td>\n",
       "      <td>0</td>\n",
       "      <td>1</td>\n",
       "      <td>2</td>\n",
       "      <td>0.0</td>\n",
       "      <td>0.001</td>\n",
       "      <td>0.0</td>\n",
       "      <td>None</td>\n",
       "      <td>None</td>\n",
       "    </tr>\n",
       "    <tr>\n",
       "      <th>4</th>\n",
       "      <td>4</td>\n",
       "      <td>10</td>\n",
       "      <td>2020-03-04</td>\n",
       "      <td>Brazil</td>\n",
       "      <td>SP</td>\n",
       "      <td>São Paulo/SP</td>\n",
       "      <td>3550308</td>\n",
       "      <td>0</td>\n",
       "      <td>0</td>\n",
       "      <td>1</td>\n",
       "      <td>3</td>\n",
       "      <td>0.0</td>\n",
       "      <td>0.024</td>\n",
       "      <td>0.0</td>\n",
       "      <td>SES</td>\n",
       "      <td>2021-12-06</td>\n",
       "    </tr>\n",
       "  </tbody>\n",
       "</table>\n",
       "</div>"
      ],
      "text/plain": [
       "  index epi_week        date country  state          city   ibgeID newDeaths  \\\n",
       "0     0        9  2020-02-25  Brazil     SP  São Paulo/SP  3550308         0   \n",
       "1     1        9  2020-02-25  Brazil  TOTAL         TOTAL        0         0   \n",
       "2     2        9  2020-02-28  Brazil     SP  São Paulo/SP  3550308         0   \n",
       "3     3        9  2020-02-28  Brazil  TOTAL         TOTAL        0         0   \n",
       "4     4       10  2020-03-04  Brazil     SP  São Paulo/SP  3550308         0   \n",
       "\n",
       "  deaths newCases totalCases deaths_per_100k_inhabitants  \\\n",
       "0      0        1          1                         0.0   \n",
       "1      0        1          1                         0.0   \n",
       "2      0        1          2                         0.0   \n",
       "3      0        1          2                         0.0   \n",
       "4      0        1          3                         0.0   \n",
       "\n",
       "  totalCases_per_100k_inhabitants deaths_by_totalCases _source last_info_date  \n",
       "0                           0.008                  0.0     SES     2021-12-06  \n",
       "1                             0.0                  0.0    None           None  \n",
       "2                           0.016                  0.0     SES     2021-12-06  \n",
       "3                           0.001                  0.0    None           None  \n",
       "4                           0.024                  0.0     SES     2021-12-06  "
      ]
     },
     "execution_count": 3,
     "metadata": {},
     "output_type": "execute_result"
    }
   ],
   "source": [
    "#Conferindo se o separador e o cabeçalho estáo corretos\n",
    "df.limit(5).toPandas()"
   ]
  },
  {
   "cell_type": "code",
   "execution_count": 5,
   "metadata": {},
   "outputs": [
    {
     "name": "stdout",
     "output_type": "stream",
     "text": [
      "root\n",
      " |-- index: string (nullable = true)\n",
      " |-- epi_week: string (nullable = true)\n",
      " |-- date: string (nullable = true)\n",
      " |-- country: string (nullable = true)\n",
      " |-- state: string (nullable = true)\n",
      " |-- city: string (nullable = true)\n",
      " |-- ibgeID: string (nullable = true)\n",
      " |-- newDeaths: string (nullable = true)\n",
      " |-- deaths: string (nullable = true)\n",
      " |-- newCases: string (nullable = true)\n",
      " |-- totalCases: string (nullable = true)\n",
      " |-- deaths_per_100k_inhabitants: string (nullable = true)\n",
      " |-- totalCases_per_100k_inhabitants: string (nullable = true)\n",
      " |-- deaths_by_totalCases: string (nullable = true)\n",
      " |-- _source: string (nullable = true)\n",
      " |-- last_info_date: string (nullable = true)\n",
      "\n"
     ]
    }
   ],
   "source": [
    "#Coletando informações das colunas\n",
    "df.printSchema()"
   ]
  },
  {
   "cell_type": "code",
   "execution_count": 6,
   "metadata": {},
   "outputs": [
    {
     "data": {
      "text/plain": [
       "1557786"
      ]
     },
     "execution_count": 6,
     "metadata": {},
     "output_type": "execute_result"
    }
   ],
   "source": [
    "#Quantidade de registros\n",
    "df.count()"
   ]
  },
  {
   "cell_type": "code",
   "execution_count": 7,
   "metadata": {},
   "outputs": [
    {
     "data": {
      "text/plain": [
       "16"
      ]
     },
     "execution_count": 7,
     "metadata": {},
     "output_type": "execute_result"
    }
   ],
   "source": [
    "#Quantidade de colunas\n",
    "len(df.columns)"
   ]
  },
  {
   "cell_type": "code",
   "execution_count": 8,
   "metadata": {},
   "outputs": [
    {
     "data": {
      "text/plain": [
       "'DataFrame[index: string, epi_week: string, date: string, country: string, state: string, city: string, ibgeID: string, newDeaths: string, deaths: string, newCases: string, totalCases: string, deaths_per_100k_inhabitants: string, totalCases_per_100k_inhabitants: string, deaths_by_totalCases: string, _source: string, last_info_date: string]'"
      ]
     },
     "execution_count": 8,
     "metadata": {},
     "output_type": "execute_result"
    }
   ],
   "source": [
    "#obtendo informações sobre a estrutura dos dados do data frame\n",
    "str(df)"
   ]
  },
  {
   "cell_type": "markdown",
   "metadata": {},
   "source": [
    "### 3. Escolhendo e tratando colunas desejadas"
   ]
  },
  {
   "cell_type": "raw",
   "metadata": {},
   "source": [
    "É essencial escolher as colunas que vai precisar, aqui a base é pequena então até seria tranquilo trabalhar com todas, mas não se pode dizer o mesmo com bases de 40 milhoes de registros.\n",
    "\n",
    "As colunas que podem nos trazer boas informações são: date, state, city, deaths, totalCases."
   ]
  },
  {
   "cell_type": "markdown",
   "metadata": {},
   "source": [
    "### 3.1. Selecionando as colunas desejadas e transformando em um novo dataFrame"
   ]
  },
  {
   "cell_type": "code",
   "execution_count": 9,
   "metadata": {},
   "outputs": [],
   "source": [
    "df_covid = df.select('date', 'state', 'city', 'deaths', 'totalCases')"
   ]
  },
  {
   "cell_type": "code",
   "execution_count": 10,
   "metadata": {},
   "outputs": [
    {
     "name": "stdout",
     "output_type": "stream",
     "text": [
      "+----------+-----+------------+------+----------+\n",
      "|      date|state|        city|deaths|totalCases|\n",
      "+----------+-----+------------+------+----------+\n",
      "|2020-02-25|   SP|São Paulo/SP|     0|         1|\n",
      "|2020-02-25|TOTAL|       TOTAL|     0|         1|\n",
      "|2020-02-28|   SP|São Paulo/SP|     0|         2|\n",
      "|2020-02-28|TOTAL|       TOTAL|     0|         2|\n",
      "|2020-03-04|   SP|São Paulo/SP|     0|         3|\n",
      "+----------+-----+------------+------+----------+\n",
      "only showing top 5 rows\n",
      "\n"
     ]
    }
   ],
   "source": [
    "df_covid.show(5)"
   ]
  },
  {
   "cell_type": "markdown",
   "metadata": {},
   "source": [
    "### 3.2. Conferindo as informações das colunas"
   ]
  },
  {
   "cell_type": "code",
   "execution_count": 11,
   "metadata": {},
   "outputs": [
    {
     "name": "stdout",
     "output_type": "stream",
     "text": [
      "+--------------------+-----+\n",
      "|                city|count|\n",
      "+--------------------+-----+\n",
      "|            Patos/PB|  545|\n",
      "|          Guarujá/SP|  539|\n",
      "|   Santa Quitéria/CE|  394|\n",
      "|       Matozinhos/MG|  334|\n",
      "|          Videira/SC|  550|\n",
      "|        Belo Vale/MG|  209|\n",
      "|         Irauçuba/CE|  258|\n",
      "|           Seabra/BA|  470|\n",
      "|             Cruz/CE|  383|\n",
      "|     Vila Lângaro/RS|  130|\n",
      "|        Piranguçu/MG|  189|\n",
      "|Nossa Senhora Apa...|  163|\n",
      "|São Francisco de ...|  139|\n",
      "|Santana do Mundaú/AL|  266|\n",
      "|São Salvador do T...|   81|\n",
      "|           Bambuí/MG|  231|\n",
      "|        Pai Pedro/MG|  106|\n",
      "|     Fazenda Nova/GO|  122|\n",
      "|          Piacatu/SP|  179|\n",
      "|         Mateiros/TO|   95|\n",
      "+--------------------+-----+\n",
      "only showing top 20 rows\n",
      "\n"
     ]
    }
   ],
   "source": [
    "df_covid.groupBy('city').count().show()"
   ]
  },
  {
   "cell_type": "code",
   "execution_count": 12,
   "metadata": {},
   "outputs": [
    {
     "name": "stdout",
     "output_type": "stream",
     "text": [
      "+------+-----+\n",
      "|deaths|count|\n",
      "+------+-----+\n",
      "|   296|  196|\n",
      "|   691|   58|\n",
      "|  4937|    2|\n",
      "|   467|  162|\n",
      "|   675|   72|\n",
      "| 84272|    1|\n",
      "|  2069|   13|\n",
      "| 87117|    1|\n",
      "|   829|   27|\n",
      "|  1572|    8|\n",
      "|  1159|   23|\n",
      "|  2136|   16|\n",
      "|  2162|   10|\n",
      "|  1436|    9|\n",
      "|  1090|   41|\n",
      "|  2294|    4|\n",
      "| 13192|    1|\n",
      "|  4032|    3|\n",
      "| 13772|    1|\n",
      "|192839|    1|\n",
      "+------+-----+\n",
      "only showing top 20 rows\n",
      "\n"
     ]
    }
   ],
   "source": [
    "df_covid.groupBy('deaths').count().show()"
   ]
  },
  {
   "cell_type": "code",
   "execution_count": 13,
   "metadata": {},
   "outputs": [
    {
     "name": "stdout",
     "output_type": "stream",
     "text": [
      "+----------+-----+\n",
      "|totalCases|count|\n",
      "+----------+-----+\n",
      "|       467|  761|\n",
      "|       296| 1051|\n",
      "|       829|  461|\n",
      "|      2088|  167|\n",
      "|       691|  545|\n",
      "|      1436|  267|\n",
      "|      1159|  321|\n",
      "|      3959|   63|\n",
      "|       675|  596|\n",
      "|     16250|    5|\n",
      "|      2069|  143|\n",
      "|      1512|  248|\n",
      "|      1090|  353|\n",
      "|     18333|    5|\n",
      "|      3210|  103|\n",
      "|      4032|   51|\n",
      "|      1572|  194|\n",
      "|     21783|    5|\n",
      "|      3414|   57|\n",
      "|     42688|    2|\n",
      "+----------+-----+\n",
      "only showing top 20 rows\n",
      "\n"
     ]
    }
   ],
   "source": [
    "df_covid.groupBy('totalCases').count().show()"
   ]
  },
  {
   "cell_type": "code",
   "execution_count": 14,
   "metadata": {},
   "outputs": [
    {
     "name": "stdout",
     "output_type": "stream",
     "text": [
      "+----------+-----+\n",
      "|      date|count|\n",
      "+----------+-----+\n",
      "|2020-04-13|  268|\n",
      "|2021-11-03| 1305|\n",
      "|2020-06-24| 2516|\n",
      "|2021-12-23|  673|\n",
      "|2020-06-08| 1531|\n",
      "|2020-09-12| 2266|\n",
      "|2020-11-12| 2752|\n",
      "|2021-04-06| 3361|\n",
      "|2020-04-12|  262|\n",
      "|2020-06-20| 2416|\n",
      "|2020-06-22| 1994|\n",
      "|2021-02-18| 2962|\n",
      "|2021-08-30| 1277|\n",
      "|2021-10-25| 1125|\n",
      "|2021-11-15|  757|\n",
      "|2021-09-23| 1709|\n",
      "|2022-01-20| 3506|\n",
      "|2020-04-20|  332|\n",
      "|2020-12-22| 3100|\n",
      "|2021-01-15| 3396|\n",
      "+----------+-----+\n",
      "only showing top 20 rows\n",
      "\n"
     ]
    }
   ],
   "source": [
    "#Verificando se todos os anos são os mesmos\n",
    "df.groupBy('date').count().show()"
   ]
  },
  {
   "cell_type": "code",
   "execution_count": 15,
   "metadata": {},
   "outputs": [
    {
     "name": "stdout",
     "output_type": "stream",
     "text": [
      "+----------+------+\n",
      "|year(date)| count|\n",
      "+----------+------+\n",
      "|      2022|120333|\n",
      "|      2020|559986|\n",
      "|      2021|877467|\n",
      "+----------+------+\n",
      "\n"
     ]
    }
   ],
   "source": [
    "#conferindo os anos dos registros encontrados na amostra\n",
    "df_covid.groupBy(F.year('date')).count().show()"
   ]
  },
  {
   "cell_type": "code",
   "execution_count": 16,
   "metadata": {},
   "outputs": [],
   "source": [
    "#criando coluna para o ano de registro\n",
    "df_covid = df_covid.withColumn('ano', F.substring('date', 1, 4))"
   ]
  },
  {
   "cell_type": "code",
   "execution_count": 17,
   "metadata": {},
   "outputs": [
    {
     "data": {
      "text/html": [
       "<div>\n",
       "<style scoped>\n",
       "    .dataframe tbody tr th:only-of-type {\n",
       "        vertical-align: middle;\n",
       "    }\n",
       "\n",
       "    .dataframe tbody tr th {\n",
       "        vertical-align: top;\n",
       "    }\n",
       "\n",
       "    .dataframe thead th {\n",
       "        text-align: right;\n",
       "    }\n",
       "</style>\n",
       "<table border=\"1\" class=\"dataframe\">\n",
       "  <thead>\n",
       "    <tr style=\"text-align: right;\">\n",
       "      <th></th>\n",
       "      <th>date</th>\n",
       "      <th>ano</th>\n",
       "    </tr>\n",
       "  </thead>\n",
       "  <tbody>\n",
       "    <tr>\n",
       "      <th>0</th>\n",
       "      <td>2020-02-25</td>\n",
       "      <td>2020</td>\n",
       "    </tr>\n",
       "    <tr>\n",
       "      <th>1</th>\n",
       "      <td>2020-02-25</td>\n",
       "      <td>2020</td>\n",
       "    </tr>\n",
       "    <tr>\n",
       "      <th>2</th>\n",
       "      <td>2020-02-28</td>\n",
       "      <td>2020</td>\n",
       "    </tr>\n",
       "    <tr>\n",
       "      <th>3</th>\n",
       "      <td>2020-02-28</td>\n",
       "      <td>2020</td>\n",
       "    </tr>\n",
       "    <tr>\n",
       "      <th>4</th>\n",
       "      <td>2020-03-04</td>\n",
       "      <td>2020</td>\n",
       "    </tr>\n",
       "  </tbody>\n",
       "</table>\n",
       "</div>"
      ],
      "text/plain": [
       "         date   ano\n",
       "0  2020-02-25  2020\n",
       "1  2020-02-25  2020\n",
       "2  2020-02-28  2020\n",
       "3  2020-02-28  2020\n",
       "4  2020-03-04  2020"
      ]
     },
     "execution_count": 17,
     "metadata": {},
     "output_type": "execute_result"
    }
   ],
   "source": [
    "df_covid.select('date', 'ano').limit(5).toPandas()"
   ]
  },
  {
   "cell_type": "markdown",
   "metadata": {},
   "source": [
    "### 4. Obtendo informações atraves de graficos"
   ]
  },
  {
   "cell_type": "code",
   "execution_count": 19,
   "metadata": {},
   "outputs": [
    {
     "data": {
      "text/plain": [
       "<AxesSubplot:xlabel='state'>"
      ]
     },
     "execution_count": 19,
     "metadata": {},
     "output_type": "execute_result"
    },
    {
     "data": {
      "image/png": "[encoded data removed]",
      "text/plain": [
       "<Figure size 1080x360 with 1 Axes>"
      ]
     },
     "metadata": {
      "needs_background": "light"
     },
     "output_type": "display_data"
    }
   ],
   "source": [
    "#Com relação a variável 'state'\n",
    "estado = df_covid.groupBy('state').count().toPandas()\n",
    "estado.plot(figsize=(15, 5), kind='bar', x='state')"
   ]
  },
  {
   "cell_type": "code",
   "execution_count": 20,
   "metadata": {},
   "outputs": [
    {
     "data": {
      "text/plain": [
       "<AxesSubplot:xlabel='ano'>"
      ]
     },
     "execution_count": 20,
     "metadata": {},
     "output_type": "execute_result"
    },
    {
     "data": {
      "image/png": "[encoded data removed]",
      "text/plain": [
       "<Figure size 1080x360 with 1 Axes>"
      ]
     },
     "metadata": {
      "needs_background": "light"
     },
     "output_type": "display_data"
    }
   ],
   "source": [
    "#Com relação a variável 'ano'\n",
    "ano = df_covid.groupBy('ano').count().orderBy('ano').toPandas()\n",
    "ano.plot(figsize=(15, 5), kind='bar', x='ano')"
   ]
  },
  {
   "cell_type": "raw",
   "metadata": {},
   "source": [
    "Por mais que existam outras variáveis no novo dataFrame, pela grande quantidade de dados seus gráficos não ficam visivelmente entendiveis, por isso não os encontrará acima.\n",
    "Através destes graficos podemos notar que o ano que teve mais registros foi 2021 e os estados que mais tiveram registros são: SC, SP, MG, RS, BA e PR."
   ]
  },
  {
   "cell_type": "markdown",
   "metadata": {},
   "source": [
    "### xx. Analisando a amostra apenas com registros de 2020"
   ]
  },
  {
   "cell_type": "code",
   "execution_count": 21,
   "metadata": {},
   "outputs": [],
   "source": [
    "# Novo dataFrame\n",
    "df_covid_2020 = df_covid.select('date', 'state', 'city', 'ano')"
   ]
  },
  {
   "cell_type": "code",
   "execution_count": 22,
   "metadata": {},
   "outputs": [],
   "source": [
    "#criando colunas dia e mês, extraindo-as da coluna date, para caso queira ou precise fazer alguma análise\n",
    "df_covid_2020 = df_covid_2020.withColumn('dia', F.substring('date', 9, 2))\n",
    "df_covid_2020 = df_covid_2020.withColumn('mes', F.substring('date', 6, 2))"
   ]
  },
  {
   "cell_type": "code",
   "execution_count": 23,
   "metadata": {},
   "outputs": [
    {
     "data": {
      "text/html": [
       "<div>\n",
       "<style scoped>\n",
       "    .dataframe tbody tr th:only-of-type {\n",
       "        vertical-align: middle;\n",
       "    }\n",
       "\n",
       "    .dataframe tbody tr th {\n",
       "        vertical-align: top;\n",
       "    }\n",
       "\n",
       "    .dataframe thead th {\n",
       "        text-align: right;\n",
       "    }\n",
       "</style>\n",
       "<table border=\"1\" class=\"dataframe\">\n",
       "  <thead>\n",
       "    <tr style=\"text-align: right;\">\n",
       "      <th></th>\n",
       "      <th>date</th>\n",
       "      <th>ano</th>\n",
       "      <th>mes</th>\n",
       "      <th>dia</th>\n",
       "    </tr>\n",
       "  </thead>\n",
       "  <tbody>\n",
       "    <tr>\n",
       "      <th>0</th>\n",
       "      <td>2020-02-25</td>\n",
       "      <td>2020</td>\n",
       "      <td>02</td>\n",
       "      <td>25</td>\n",
       "    </tr>\n",
       "    <tr>\n",
       "      <th>1</th>\n",
       "      <td>2020-02-25</td>\n",
       "      <td>2020</td>\n",
       "      <td>02</td>\n",
       "      <td>25</td>\n",
       "    </tr>\n",
       "    <tr>\n",
       "      <th>2</th>\n",
       "      <td>2020-02-28</td>\n",
       "      <td>2020</td>\n",
       "      <td>02</td>\n",
       "      <td>28</td>\n",
       "    </tr>\n",
       "    <tr>\n",
       "      <th>3</th>\n",
       "      <td>2020-02-28</td>\n",
       "      <td>2020</td>\n",
       "      <td>02</td>\n",
       "      <td>28</td>\n",
       "    </tr>\n",
       "    <tr>\n",
       "      <th>4</th>\n",
       "      <td>2020-03-04</td>\n",
       "      <td>2020</td>\n",
       "      <td>03</td>\n",
       "      <td>04</td>\n",
       "    </tr>\n",
       "  </tbody>\n",
       "</table>\n",
       "</div>"
      ],
      "text/plain": [
       "         date   ano mes dia\n",
       "0  2020-02-25  2020  02  25\n",
       "1  2020-02-25  2020  02  25\n",
       "2  2020-02-28  2020  02  28\n",
       "3  2020-02-28  2020  02  28\n",
       "4  2020-03-04  2020  03  04"
      ]
     },
     "execution_count": 23,
     "metadata": {},
     "output_type": "execute_result"
    }
   ],
   "source": [
    "df_covid_2020.select('date', 'ano', 'mes', 'dia').limit(5).toPandas()"
   ]
  },
  {
   "cell_type": "code",
   "execution_count": 24,
   "metadata": {},
   "outputs": [],
   "source": [
    "mask = df_covid_2020.ano == 2020"
   ]
  },
  {
   "cell_type": "code",
   "execution_count": 25,
   "metadata": {},
   "outputs": [],
   "source": [
    "df_covid_2020 = df_covid_2020[mask]"
   ]
  },
  {
   "cell_type": "code",
   "execution_count": 26,
   "metadata": {},
   "outputs": [
    {
     "name": "stdout",
     "output_type": "stream",
     "text": [
      "+---------+------+\n",
      "|year(ano)| count|\n",
      "+---------+------+\n",
      "|     2020|559986|\n",
      "+---------+------+\n",
      "\n"
     ]
    }
   ],
   "source": [
    "df_covid_2020.groupBy(F.year('ano')).count().show()"
   ]
  },
  {
   "cell_type": "markdown",
   "metadata": {},
   "source": [
    "### Obtendo informações através de graficos"
   ]
  },
  {
   "cell_type": "code",
   "execution_count": 27,
   "metadata": {},
   "outputs": [
    {
     "data": {
      "text/plain": [
       "<AxesSubplot:xlabel='mes'>"
      ]
     },
     "execution_count": 27,
     "metadata": {},
     "output_type": "execute_result"
    },
    {
     "data": {
      "image/png": "[encoded data removed]",
      "text/plain": [
       "<Figure size 1080x360 with 1 Axes>"
      ]
     },
     "metadata": {
      "needs_background": "light"
     },
     "output_type": "display_data"
    }
   ],
   "source": [
    "#Com relação a variável 'mes'\n",
    "mes = df_covid_2020.groupBy('mes').count().orderBy('mes').toPandas()\n",
    "mes.plot(figsize=(15, 5), kind='bar', x='mes')"
   ]
  },
  {
   "cell_type": "code",
   "execution_count": 28,
   "metadata": {},
   "outputs": [
    {
     "data": {
      "text/plain": [
       "<AxesSubplot:xlabel='dia'>"
      ]
     },
     "execution_count": 28,
     "metadata": {},
     "output_type": "execute_result"
    },
    {
     "data": {
      "image/png": "[encoded data removed]",
      "text/plain": [
       "<Figure size 1080x360 with 1 Axes>"
      ]
     },
     "metadata": {
      "needs_background": "light"
     },
     "output_type": "display_data"
    }
   ],
   "source": [
    "#Com relação a variável 'dia'\n",
    "dia = df_covid_2020.groupBy('dia').count().orderBy('dia').toPandas()\n",
    "dia.plot(figsize=(15, 5), kind='bar', x='dia')"
   ]
  },
  {
   "cell_type": "code",
   "execution_count": 29,
   "metadata": {},
   "outputs": [
    {
     "data": {
      "text/plain": [
       "<AxesSubplot:xlabel='state'>"
      ]
     },
     "execution_count": 29,
     "metadata": {},
     "output_type": "execute_result"
    },
    {
     "data": {
      "image/png": "[encoded data removed]",
      "text/plain": [
       "<Figure size 1080x360 with 1 Axes>"
      ]
     },
     "metadata": {
      "needs_background": "light"
     },
     "output_type": "display_data"
    }
   ],
   "source": [
    "#Com relação a variável 'state'\n",
    "estado = df_covid_2020.groupBy('state').count().toPandas()\n",
    "estado.plot(figsize=(15, 5), kind='bar', x='state')"
   ]
  },
  {
   "cell_type": "raw",
   "metadata": {},
   "source": [
    "Devido a falta de dicionário para essa base, focaremos apenas nos estados que mais tiveram registros, nos anos e meses do mesmo. Aqui, em 2020, notamos que o mês 7/8/12 foram o de maior registros. Os estados praticamente se mantem iguais ao gráfico onde todos os anos estão misturados, tendo SP como foco e MG+BA logo atrás."
   ]
  },
  {
   "cell_type": "markdown",
   "metadata": {},
   "source": [
    "### xx. Analisando a amostra apenas com registros de 2021"
   ]
  },
  {
   "cell_type": "code",
   "execution_count": 30,
   "metadata": {},
   "outputs": [],
   "source": [
    "# Novo dataFrame\n",
    "df_covid_2021 = df_covid.select('date', 'state', 'city', 'ano')"
   ]
  },
  {
   "cell_type": "code",
   "execution_count": 31,
   "metadata": {},
   "outputs": [],
   "source": [
    "#criando coluna de mês extraindo-a da coluna date\n",
    "df_covid_2021 = df_covid_2021.withColumn('mes', F.substring('date', 6, 2))"
   ]
  },
  {
   "cell_type": "code",
   "execution_count": 32,
   "metadata": {
    "scrolled": true
   },
   "outputs": [
    {
     "data": {
      "text/html": [
       "<div>\n",
       "<style scoped>\n",
       "    .dataframe tbody tr th:only-of-type {\n",
       "        vertical-align: middle;\n",
       "    }\n",
       "\n",
       "    .dataframe tbody tr th {\n",
       "        vertical-align: top;\n",
       "    }\n",
       "\n",
       "    .dataframe thead th {\n",
       "        text-align: right;\n",
       "    }\n",
       "</style>\n",
       "<table border=\"1\" class=\"dataframe\">\n",
       "  <thead>\n",
       "    <tr style=\"text-align: right;\">\n",
       "      <th></th>\n",
       "      <th>date</th>\n",
       "      <th>ano</th>\n",
       "      <th>mes</th>\n",
       "      <th>dia</th>\n",
       "    </tr>\n",
       "  </thead>\n",
       "  <tbody>\n",
       "    <tr>\n",
       "      <th>0</th>\n",
       "      <td>2020-02-25</td>\n",
       "      <td>2020</td>\n",
       "      <td>02</td>\n",
       "      <td>25</td>\n",
       "    </tr>\n",
       "    <tr>\n",
       "      <th>1</th>\n",
       "      <td>2020-02-25</td>\n",
       "      <td>2020</td>\n",
       "      <td>02</td>\n",
       "      <td>25</td>\n",
       "    </tr>\n",
       "    <tr>\n",
       "      <th>2</th>\n",
       "      <td>2020-02-28</td>\n",
       "      <td>2020</td>\n",
       "      <td>02</td>\n",
       "      <td>28</td>\n",
       "    </tr>\n",
       "    <tr>\n",
       "      <th>3</th>\n",
       "      <td>2020-02-28</td>\n",
       "      <td>2020</td>\n",
       "      <td>02</td>\n",
       "      <td>28</td>\n",
       "    </tr>\n",
       "    <tr>\n",
       "      <th>4</th>\n",
       "      <td>2020-03-04</td>\n",
       "      <td>2020</td>\n",
       "      <td>03</td>\n",
       "      <td>04</td>\n",
       "    </tr>\n",
       "  </tbody>\n",
       "</table>\n",
       "</div>"
      ],
      "text/plain": [
       "         date   ano mes dia\n",
       "0  2020-02-25  2020  02  25\n",
       "1  2020-02-25  2020  02  25\n",
       "2  2020-02-28  2020  02  28\n",
       "3  2020-02-28  2020  02  28\n",
       "4  2020-03-04  2020  03  04"
      ]
     },
     "execution_count": 32,
     "metadata": {},
     "output_type": "execute_result"
    }
   ],
   "source": [
    "df_covid_2021.select('date', 'ano', 'mes').limit(5).toPandas()"
   ]
  },
  {
   "cell_type": "code",
   "execution_count": 33,
   "metadata": {},
   "outputs": [],
   "source": [
    "mask = df_covid_2021.ano == 2021"
   ]
  },
  {
   "cell_type": "code",
   "execution_count": 34,
   "metadata": {},
   "outputs": [],
   "source": [
    "df_covid_2021 = df_covid_2021[mask]"
   ]
  },
  {
   "cell_type": "code",
   "execution_count": 35,
   "metadata": {},
   "outputs": [
    {
     "name": "stdout",
     "output_type": "stream",
     "text": [
      "+---------+------+\n",
      "|year(ano)| count|\n",
      "+---------+------+\n",
      "|     2021|877467|\n",
      "+---------+------+\n",
      "\n"
     ]
    }
   ],
   "source": [
    "df_covid_2021.groupBy(F.year('ano')).count().show()"
   ]
  },
  {
   "cell_type": "markdown",
   "metadata": {},
   "source": [
    "### Obtendo informações através de graficos"
   ]
  },
  {
   "cell_type": "code",
   "execution_count": 36,
   "metadata": {},
   "outputs": [
    {
     "data": {
      "text/plain": [
       "<AxesSubplot:xlabel='mes'>"
      ]
     },
     "execution_count": 36,
     "metadata": {},
     "output_type": "execute_result"
    },
    {
     "data": {
      "image/png": "[encoded data removed]",
      "text/plain": [
       "<Figure size 1080x360 with 1 Axes>"
      ]
     },
     "metadata": {
      "needs_background": "light"
     },
     "output_type": "display_data"
    }
   ],
   "source": [
    "#Com relação a variável 'mes'\n",
    "mes = df_covid_2021.groupBy('mes').count().orderBy('mes').toPandas()\n",
    "mes.plot(figsize=(15, 5), kind='bar', x='mes')"
   ]
  },
  {
   "cell_type": "code",
   "execution_count": 38,
   "metadata": {},
   "outputs": [
    {
     "data": {
      "text/plain": [
       "<AxesSubplot:xlabel='state'>"
      ]
     },
     "execution_count": 38,
     "metadata": {},
     "output_type": "execute_result"
    },
    {
     "data": {
      "image/png": "[encoded data removed]",
      "text/plain": [
       "<Figure size 1080x360 with 1 Axes>"
      ]
     },
     "metadata": {
      "needs_background": "light"
     },
     "output_type": "display_data"
    }
   ],
   "source": [
    "#Com relação a variável 'state'\n",
    "estado = df_covid_2021.groupBy('state').count().toPandas()\n",
    "estado.plot(figsize=(15, 5), kind='bar', x='state')"
   ]
  },
  {
   "cell_type": "raw",
   "metadata": {},
   "source": [
    "No ano de 2021 notamos que o mês 3/4/5/6 foram o de maior registros, tendo declinio dele nos meses seguintes. Os estados com mais registros são: SP, MG, PR, RS e BA, com counts acima de 60000."
   ]
  },
  {
   "cell_type": "markdown",
   "metadata": {},
   "source": [
    "### xx. Analisando a amostra apenas com registros de 2022"
   ]
  },
  {
   "cell_type": "code",
   "execution_count": 39,
   "metadata": {},
   "outputs": [],
   "source": [
    "# Novo dataFrame\n",
    "df_covid_2022 = df_covid.select('date', 'state', 'ano')"
   ]
  },
  {
   "cell_type": "code",
   "execution_count": 40,
   "metadata": {},
   "outputs": [],
   "source": [
    "#criando coluna de mês extraindo-a da coluna date\n",
    "df_covid_2022 = df_covid_2022.withColumn('mes', F.substring('date', 6, 2))"
   ]
  },
  {
   "cell_type": "code",
   "execution_count": 41,
   "metadata": {},
   "outputs": [
    {
     "data": {
      "text/html": [
       "<div>\n",
       "<style scoped>\n",
       "    .dataframe tbody tr th:only-of-type {\n",
       "        vertical-align: middle;\n",
       "    }\n",
       "\n",
       "    .dataframe tbody tr th {\n",
       "        vertical-align: top;\n",
       "    }\n",
       "\n",
       "    .dataframe thead th {\n",
       "        text-align: right;\n",
       "    }\n",
       "</style>\n",
       "<table border=\"1\" class=\"dataframe\">\n",
       "  <thead>\n",
       "    <tr style=\"text-align: right;\">\n",
       "      <th></th>\n",
       "      <th>date</th>\n",
       "      <th>ano</th>\n",
       "      <th>mes</th>\n",
       "    </tr>\n",
       "  </thead>\n",
       "  <tbody>\n",
       "    <tr>\n",
       "      <th>0</th>\n",
       "      <td>2020-02-25</td>\n",
       "      <td>2020</td>\n",
       "      <td>02</td>\n",
       "    </tr>\n",
       "    <tr>\n",
       "      <th>1</th>\n",
       "      <td>2020-02-25</td>\n",
       "      <td>2020</td>\n",
       "      <td>02</td>\n",
       "    </tr>\n",
       "    <tr>\n",
       "      <th>2</th>\n",
       "      <td>2020-02-28</td>\n",
       "      <td>2020</td>\n",
       "      <td>02</td>\n",
       "    </tr>\n",
       "    <tr>\n",
       "      <th>3</th>\n",
       "      <td>2020-02-28</td>\n",
       "      <td>2020</td>\n",
       "      <td>02</td>\n",
       "    </tr>\n",
       "    <tr>\n",
       "      <th>4</th>\n",
       "      <td>2020-03-04</td>\n",
       "      <td>2020</td>\n",
       "      <td>03</td>\n",
       "    </tr>\n",
       "  </tbody>\n",
       "</table>\n",
       "</div>"
      ],
      "text/plain": [
       "         date   ano mes\n",
       "0  2020-02-25  2020  02\n",
       "1  2020-02-25  2020  02\n",
       "2  2020-02-28  2020  02\n",
       "3  2020-02-28  2020  02\n",
       "4  2020-03-04  2020  03"
      ]
     },
     "execution_count": 41,
     "metadata": {},
     "output_type": "execute_result"
    }
   ],
   "source": [
    "df_covid_2022.select('date', 'ano', 'mes').limit(5).toPandas()"
   ]
  },
  {
   "cell_type": "code",
   "execution_count": 42,
   "metadata": {},
   "outputs": [],
   "source": [
    "mask = df_covid_2022.ano == 2022"
   ]
  },
  {
   "cell_type": "code",
   "execution_count": 43,
   "metadata": {},
   "outputs": [],
   "source": [
    "df_covid_2022 = df_covid_2022[mask]"
   ]
  },
  {
   "cell_type": "code",
   "execution_count": 44,
   "metadata": {},
   "outputs": [
    {
     "name": "stdout",
     "output_type": "stream",
     "text": [
      "+---------+------+\n",
      "|year(ano)| count|\n",
      "+---------+------+\n",
      "|     2022|120333|\n",
      "+---------+------+\n",
      "\n"
     ]
    }
   ],
   "source": [
    "df_covid_2022.groupBy(F.year('ano')).count().show()"
   ]
  },
  {
   "cell_type": "markdown",
   "metadata": {},
   "source": [
    "### Obtendo informações através de graficos"
   ]
  },
  {
   "cell_type": "code",
   "execution_count": 45,
   "metadata": {},
   "outputs": [
    {
     "data": {
      "text/plain": [
       "<AxesSubplot:xlabel='mes'>"
      ]
     },
     "execution_count": 45,
     "metadata": {},
     "output_type": "execute_result"
    },
    {
     "data": {
      "image/png": "[encoded data removed]",
      "text/plain": [
       "<Figure size 1080x360 with 1 Axes>"
      ]
     },
     "metadata": {
      "needs_background": "light"
     },
     "output_type": "display_data"
    }
   ],
   "source": [
    "#Com relação a variável 'mes'\n",
    "mes = df_covid_2022.groupBy('mes').count().orderBy('mes').toPandas()\n",
    "mes.plot(figsize=(15, 5), kind='bar', x='mes')"
   ]
  },
  {
   "cell_type": "code",
   "execution_count": 46,
   "metadata": {},
   "outputs": [
    {
     "data": {
      "text/plain": [
       "<AxesSubplot:xlabel='state'>"
      ]
     },
     "execution_count": 46,
     "metadata": {},
     "output_type": "execute_result"
    },
    {
     "data": {
      "image/png": "[encoded data removed]",
      "text/plain": [
       "<Figure size 1080x360 with 1 Axes>"
      ]
     },
     "metadata": {
      "needs_background": "light"
     },
     "output_type": "display_data"
    }
   ],
   "source": [
    "#Com relação a variável 'state'\n",
    "estado = df_covid_2022.groupBy('state').count().toPandas()\n",
    "estado.plot(figsize=(15, 5), kind='bar', x='state')"
   ]
  },
  {
   "cell_type": "raw",
   "metadata": {},
   "source": [
    "Levando em consideração que esta analise está sendo feita no dia 14/02/2022, os dados referentes ao mês não tem tanto impacto ou o que examinar, ainda assim deixarei o gráfico exposto, como o do dia no ano de 2020. Com relação aos estados, SP dessa vez não está como o que tem maiores registros, mas sim RS, MG e PR. "
   ]
  },
  {
   "cell_type": "markdown",
   "metadata": {},
   "source": [
    "### Conclusão?"
   ]
  },
  {
   "cell_type": "raw",
   "metadata": {},
   "source": []
  },
  {
   "cell_type": "code",
   "execution_count": null,
   "metadata": {},
   "outputs": [],
   "source": []
  },
  {
   "cell_type": "raw",
   "metadata": {},
   "source": [
    "Fontes\n",
    "\n",
    "https://stackoverflow.com/questions/19266798/python-pandas-resolving-list-object-has-no-attribute-loc\n",
    "https://qastack.com.br/programming/17071871/how-to-select-rows-from-a-dataframe-based-on-column-values"
   ]
  }
 ],
 "metadata": {
  "kernelspec": {
   "display_name": "Python 3 (ipykernel)",
   "language": "python",
   "name": "python3"
  },
  "language_info": {
   "codemirror_mode": {
    "name": "ipython",
    "version": 3
   },
   "file_extension": ".py",
   "mimetype": "text/x-python",
   "name": "python",
   "nbconvert_exporter": "python",
   "pygments_lexer": "ipython3",
   "version": "3.7.4"
  }
 },
 "nbformat": 4,
 "nbformat_minor": 2
}
